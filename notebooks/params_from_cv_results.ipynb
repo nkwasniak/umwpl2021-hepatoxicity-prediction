{
 "cells": [
  {
   "cell_type": "markdown",
   "id": "64cd4810",
   "metadata": {},
   "source": [
    "### cv_results for SVR"
   ]
  },
  {
   "cell_type": "code",
   "execution_count": 152,
   "id": "6bcda9a3",
   "metadata": {},
   "outputs": [],
   "source": [
    "import pandas as pd\n",
    "df = pd.read_csv(\"../data/all_models/SVR.csv\", header=0, index_col=0)"
   ]
  },
  {
   "cell_type": "code",
   "execution_count": 153,
   "id": "da315f0c",
   "metadata": {},
   "outputs": [],
   "source": [
    "results=[]"
   ]
  },
  {
   "cell_type": "code",
   "execution_count": 154,
   "id": "fab5d2fd",
   "metadata": {},
   "outputs": [],
   "source": [
    "def save_result(df, model_name):\n",
    "    max_rank=xd['rank_test_score'].idxmax()\n",
    "    min_std=xd['std_test_score'].idxmin()\n",
    "    max_rank=xd['rank_test_score'].idxmax()\n",
    "    results.append({'model' : model_name, 'max_mean_test_score' : max_mean, 'min_std_test_score': min_std, 'max_rank_test_score': max_rank})"
   ]
  },
  {
   "cell_type": "code",
   "execution_count": 155,
   "id": "1fa3e4b3",
   "metadata": {},
   "outputs": [
    {
     "data": {
      "text/plain": [
       "array(['mean_fit_time', 'std_fit_time', 'mean_score_time',\n",
       "       'std_score_time', 'param_C', 'param_coef0', 'param_degree',\n",
       "       'param_gamma', 'param_kernel', 'param_tol', 'params',\n",
       "       'split0_test_score', 'split1_test_score', 'split2_test_score',\n",
       "       'split3_test_score', 'split4_test_score', 'split5_test_score',\n",
       "       'split6_test_score', 'split7_test_score', 'split8_test_score',\n",
       "       'split9_test_score', 'mean_test_score', 'std_test_score',\n",
       "       'rank_test_score'], dtype=object)"
      ]
     },
     "execution_count": 155,
     "metadata": {},
     "output_type": "execute_result"
    }
   ],
   "source": [
    "df.columns.values"
   ]
  },
  {
   "cell_type": "code",
   "execution_count": 156,
   "id": "eb2b1428",
   "metadata": {},
   "outputs": [],
   "source": [
    "dd=df.groupby(['param_C','param_coef0', 'param_degree', 'param_gamma', 'param_kernel', 'param_tol']).agg({'mean_test_score': \"mean\", 'std_test_score': \"mean\",'rank_test_score': 'mean'})"
   ]
  },
  {
   "cell_type": "code",
   "execution_count": 157,
   "id": "7fc3482a",
   "metadata": {},
   "outputs": [],
   "source": [
    "xd=pd.DataFrame(dd)"
   ]
  },
  {
   "cell_type": "code",
   "execution_count": 158,
   "id": "8f4410f7",
   "metadata": {},
   "outputs": [
    {
     "data": {
      "text/html": [
       "<div>\n",
       "<style scoped>\n",
       "    .dataframe tbody tr th:only-of-type {\n",
       "        vertical-align: middle;\n",
       "    }\n",
       "\n",
       "    .dataframe tbody tr th {\n",
       "        vertical-align: top;\n",
       "    }\n",
       "\n",
       "    .dataframe thead th {\n",
       "        text-align: right;\n",
       "    }\n",
       "</style>\n",
       "<table border=\"1\" class=\"dataframe\">\n",
       "  <thead>\n",
       "    <tr style=\"text-align: right;\">\n",
       "      <th></th>\n",
       "      <th></th>\n",
       "      <th></th>\n",
       "      <th></th>\n",
       "      <th></th>\n",
       "      <th></th>\n",
       "      <th>mean_test_score</th>\n",
       "      <th>std_test_score</th>\n",
       "      <th>rank_test_score</th>\n",
       "    </tr>\n",
       "    <tr>\n",
       "      <th>param_C</th>\n",
       "      <th>param_coef0</th>\n",
       "      <th>param_degree</th>\n",
       "      <th>param_gamma</th>\n",
       "      <th>param_kernel</th>\n",
       "      <th>param_tol</th>\n",
       "      <th></th>\n",
       "      <th></th>\n",
       "      <th></th>\n",
       "    </tr>\n",
       "  </thead>\n",
       "  <tbody>\n",
       "    <tr>\n",
       "      <th rowspan=\"5\" valign=\"top\">0.0001</th>\n",
       "      <th rowspan=\"5\" valign=\"top\">0.01</th>\n",
       "      <th rowspan=\"5\" valign=\"top\">3</th>\n",
       "      <th rowspan=\"5\" valign=\"top\">auto</th>\n",
       "      <th rowspan=\"5\" valign=\"top\">linear</th>\n",
       "      <th>0.00001</th>\n",
       "      <td>-0.039704</td>\n",
       "      <td>0.063404</td>\n",
       "      <td>1885.6</td>\n",
       "    </tr>\n",
       "    <tr>\n",
       "      <th>0.00010</th>\n",
       "      <td>-0.039705</td>\n",
       "      <td>0.063403</td>\n",
       "      <td>1885.6</td>\n",
       "    </tr>\n",
       "    <tr>\n",
       "      <th>0.00100</th>\n",
       "      <td>-0.039720</td>\n",
       "      <td>0.063451</td>\n",
       "      <td>1883.2</td>\n",
       "    </tr>\n",
       "    <tr>\n",
       "      <th>0.01000</th>\n",
       "      <td>-0.039778</td>\n",
       "      <td>0.063227</td>\n",
       "      <td>1895.6</td>\n",
       "    </tr>\n",
       "    <tr>\n",
       "      <th>0.10000</th>\n",
       "      <td>-0.036781</td>\n",
       "      <td>0.061831</td>\n",
       "      <td>1881.2</td>\n",
       "    </tr>\n",
       "    <tr>\n",
       "      <th>...</th>\n",
       "      <th>...</th>\n",
       "      <th>...</th>\n",
       "      <th>...</th>\n",
       "      <th>...</th>\n",
       "      <th>...</th>\n",
       "      <td>...</td>\n",
       "      <td>...</td>\n",
       "      <td>...</td>\n",
       "    </tr>\n",
       "    <tr>\n",
       "      <th rowspan=\"5\" valign=\"top\">25.0000</th>\n",
       "      <th rowspan=\"5\" valign=\"top\">10.00</th>\n",
       "      <th rowspan=\"5\" valign=\"top\">8</th>\n",
       "      <th rowspan=\"5\" valign=\"top\">scale</th>\n",
       "      <th rowspan=\"5\" valign=\"top\">sigmoid</th>\n",
       "      <th>0.00001</th>\n",
       "      <td>-0.056269</td>\n",
       "      <td>0.063646</td>\n",
       "      <td>2393.6</td>\n",
       "    </tr>\n",
       "    <tr>\n",
       "      <th>0.00010</th>\n",
       "      <td>-0.056269</td>\n",
       "      <td>0.063646</td>\n",
       "      <td>2393.6</td>\n",
       "    </tr>\n",
       "    <tr>\n",
       "      <th>0.00100</th>\n",
       "      <td>-0.056269</td>\n",
       "      <td>0.063646</td>\n",
       "      <td>2394.0</td>\n",
       "    </tr>\n",
       "    <tr>\n",
       "      <th>0.01000</th>\n",
       "      <td>-0.056274</td>\n",
       "      <td>0.063647</td>\n",
       "      <td>2416.8</td>\n",
       "    </tr>\n",
       "    <tr>\n",
       "      <th>0.10000</th>\n",
       "      <td>-0.051496</td>\n",
       "      <td>0.058165</td>\n",
       "      <td>2111.4</td>\n",
       "    </tr>\n",
       "  </tbody>\n",
       "</table>\n",
       "<p>2640 rows × 3 columns</p>\n",
       "</div>"
      ],
      "text/plain": [
       "                                                                     mean_test_score  \\\n",
       "param_C param_coef0 param_degree param_gamma param_kernel param_tol                    \n",
       "0.0001  0.01        3            auto        linear       0.00001          -0.039704   \n",
       "                                                          0.00010          -0.039705   \n",
       "                                                          0.00100          -0.039720   \n",
       "                                                          0.01000          -0.039778   \n",
       "                                                          0.10000          -0.036781   \n",
       "...                                                                              ...   \n",
       "25.0000 10.00       8            scale       sigmoid      0.00001          -0.056269   \n",
       "                                                          0.00010          -0.056269   \n",
       "                                                          0.00100          -0.056269   \n",
       "                                                          0.01000          -0.056274   \n",
       "                                                          0.10000          -0.051496   \n",
       "\n",
       "                                                                     std_test_score  \\\n",
       "param_C param_coef0 param_degree param_gamma param_kernel param_tol                   \n",
       "0.0001  0.01        3            auto        linear       0.00001          0.063404   \n",
       "                                                          0.00010          0.063403   \n",
       "                                                          0.00100          0.063451   \n",
       "                                                          0.01000          0.063227   \n",
       "                                                          0.10000          0.061831   \n",
       "...                                                                             ...   \n",
       "25.0000 10.00       8            scale       sigmoid      0.00001          0.063646   \n",
       "                                                          0.00010          0.063646   \n",
       "                                                          0.00100          0.063646   \n",
       "                                                          0.01000          0.063647   \n",
       "                                                          0.10000          0.058165   \n",
       "\n",
       "                                                                     rank_test_score  \n",
       "param_C param_coef0 param_degree param_gamma param_kernel param_tol                   \n",
       "0.0001  0.01        3            auto        linear       0.00001             1885.6  \n",
       "                                                          0.00010             1885.6  \n",
       "                                                          0.00100             1883.2  \n",
       "                                                          0.01000             1895.6  \n",
       "                                                          0.10000             1881.2  \n",
       "...                                                                              ...  \n",
       "25.0000 10.00       8            scale       sigmoid      0.00001             2393.6  \n",
       "                                                          0.00010             2393.6  \n",
       "                                                          0.00100             2394.0  \n",
       "                                                          0.01000             2416.8  \n",
       "                                                          0.10000             2111.4  \n",
       "\n",
       "[2640 rows x 3 columns]"
      ]
     },
     "execution_count": 158,
     "metadata": {},
     "output_type": "execute_result"
    }
   ],
   "source": [
    "xd"
   ]
  },
  {
   "cell_type": "code",
   "execution_count": 159,
   "id": "dceb2ee2",
   "metadata": {},
   "outputs": [],
   "source": [
    "xd.to_csv(\"../data/all_models/cv_results_interpretation/cv_results_SVR.csv\", encoding='utf-8', header=True)"
   ]
  },
  {
   "cell_type": "code",
   "execution_count": 160,
   "id": "a8a512fc",
   "metadata": {},
   "outputs": [],
   "source": [
    "save_result(xd, 'SVR')"
   ]
  },
  {
   "cell_type": "markdown",
   "id": "a152cdbd",
   "metadata": {},
   "source": [
    "### cv_results for Lasso"
   ]
  },
  {
   "cell_type": "code",
   "execution_count": 161,
   "id": "cdad1859",
   "metadata": {},
   "outputs": [],
   "source": [
    "df = pd.read_csv(\"../data/all_models/Lasso.csv\", header=0, index_col=0)"
   ]
  },
  {
   "cell_type": "code",
   "execution_count": 162,
   "id": "71c89543",
   "metadata": {},
   "outputs": [
    {
     "data": {
      "text/plain": [
       "array(['mean_fit_time', 'std_fit_time', 'mean_score_time',\n",
       "       'std_score_time', 'param_alpha', 'param_random_state', 'params',\n",
       "       'split0_test_score', 'split1_test_score', 'split2_test_score',\n",
       "       'split3_test_score', 'split4_test_score', 'split5_test_score',\n",
       "       'split6_test_score', 'split7_test_score', 'split8_test_score',\n",
       "       'split9_test_score', 'mean_test_score', 'std_test_score',\n",
       "       'rank_test_score'], dtype=object)"
      ]
     },
     "execution_count": 162,
     "metadata": {},
     "output_type": "execute_result"
    }
   ],
   "source": [
    "df.columns.values"
   ]
  },
  {
   "cell_type": "code",
   "execution_count": 163,
   "id": "68f5af9b",
   "metadata": {},
   "outputs": [],
   "source": [
    "dd=df.groupby(['param_alpha']).agg({'mean_test_score': \"mean\", 'std_test_score': \"mean\",'rank_test_score': 'mean'})"
   ]
  },
  {
   "cell_type": "code",
   "execution_count": 164,
   "id": "3d6346b9",
   "metadata": {},
   "outputs": [],
   "source": [
    "xd=pd.DataFrame(dd)"
   ]
  },
  {
   "cell_type": "code",
   "execution_count": 165,
   "id": "37401e0d",
   "metadata": {},
   "outputs": [
    {
     "data": {
      "text/html": [
       "<div>\n",
       "<style scoped>\n",
       "    .dataframe tbody tr th:only-of-type {\n",
       "        vertical-align: middle;\n",
       "    }\n",
       "\n",
       "    .dataframe tbody tr th {\n",
       "        vertical-align: top;\n",
       "    }\n",
       "\n",
       "    .dataframe thead th {\n",
       "        text-align: right;\n",
       "    }\n",
       "</style>\n",
       "<table border=\"1\" class=\"dataframe\">\n",
       "  <thead>\n",
       "    <tr style=\"text-align: right;\">\n",
       "      <th></th>\n",
       "      <th>mean_test_score</th>\n",
       "      <th>std_test_score</th>\n",
       "      <th>rank_test_score</th>\n",
       "    </tr>\n",
       "    <tr>\n",
       "      <th>param_alpha</th>\n",
       "      <th></th>\n",
       "      <th></th>\n",
       "      <th></th>\n",
       "    </tr>\n",
       "  </thead>\n",
       "  <tbody>\n",
       "    <tr>\n",
       "      <th>0.001</th>\n",
       "      <td>0.206384</td>\n",
       "      <td>0.617849</td>\n",
       "      <td>17.8</td>\n",
       "    </tr>\n",
       "    <tr>\n",
       "      <th>0.005</th>\n",
       "      <td>0.291197</td>\n",
       "      <td>0.512019</td>\n",
       "      <td>7.0</td>\n",
       "    </tr>\n",
       "    <tr>\n",
       "      <th>0.010</th>\n",
       "      <td>0.322450</td>\n",
       "      <td>0.456979</td>\n",
       "      <td>4.6</td>\n",
       "    </tr>\n",
       "    <tr>\n",
       "      <th>0.050</th>\n",
       "      <td>0.202680</td>\n",
       "      <td>0.258652</td>\n",
       "      <td>11.8</td>\n",
       "    </tr>\n",
       "    <tr>\n",
       "      <th>0.100</th>\n",
       "      <td>-0.008026</td>\n",
       "      <td>0.101629</td>\n",
       "      <td>26.2</td>\n",
       "    </tr>\n",
       "    <tr>\n",
       "      <th>0.500</th>\n",
       "      <td>-0.074849</td>\n",
       "      <td>0.068368</td>\n",
       "      <td>29.8</td>\n",
       "    </tr>\n",
       "    <tr>\n",
       "      <th>1.000</th>\n",
       "      <td>-0.074849</td>\n",
       "      <td>0.068368</td>\n",
       "      <td>29.8</td>\n",
       "    </tr>\n",
       "  </tbody>\n",
       "</table>\n",
       "</div>"
      ],
      "text/plain": [
       "             mean_test_score  std_test_score  rank_test_score\n",
       "param_alpha                                                  \n",
       "0.001               0.206384        0.617849             17.8\n",
       "0.005               0.291197        0.512019              7.0\n",
       "0.010               0.322450        0.456979              4.6\n",
       "0.050               0.202680        0.258652             11.8\n",
       "0.100              -0.008026        0.101629             26.2\n",
       "0.500              -0.074849        0.068368             29.8\n",
       "1.000              -0.074849        0.068368             29.8"
      ]
     },
     "execution_count": 165,
     "metadata": {},
     "output_type": "execute_result"
    }
   ],
   "source": [
    "xd"
   ]
  },
  {
   "cell_type": "code",
   "execution_count": 166,
   "id": "759b74ad",
   "metadata": {},
   "outputs": [],
   "source": [
    "xd.to_csv(\"../data/all_models/cv_results_interpretation/cv_results_Lasso.csv\", encoding='utf-8', header=True)"
   ]
  },
  {
   "cell_type": "code",
   "execution_count": 167,
   "id": "c736ed67",
   "metadata": {},
   "outputs": [],
   "source": [
    "save_result(xd, 'Lasso')"
   ]
  },
  {
   "cell_type": "markdown",
   "id": "8433b5e9",
   "metadata": {},
   "source": [
    "### cv_results for SGDRegressor"
   ]
  },
  {
   "cell_type": "code",
   "execution_count": 168,
   "id": "be8b9bf0",
   "metadata": {},
   "outputs": [],
   "source": [
    "df = pd.read_csv(\"../data/all_models/SGDRegressor.csv\", header=0, index_col=0)"
   ]
  },
  {
   "cell_type": "code",
   "execution_count": 169,
   "id": "115f6ce7",
   "metadata": {},
   "outputs": [
    {
     "data": {
      "text/plain": [
       "array(['mean_fit_time', 'std_fit_time', 'mean_score_time',\n",
       "       'std_score_time', 'param_alpha', 'param_learning_rate',\n",
       "       'param_random_state', 'params', 'split0_test_score',\n",
       "       'split1_test_score', 'split2_test_score', 'split3_test_score',\n",
       "       'split4_test_score', 'split5_test_score', 'split6_test_score',\n",
       "       'split7_test_score', 'split8_test_score', 'split9_test_score',\n",
       "       'mean_test_score', 'std_test_score', 'rank_test_score'],\n",
       "      dtype=object)"
      ]
     },
     "execution_count": 169,
     "metadata": {},
     "output_type": "execute_result"
    }
   ],
   "source": [
    "df.columns.values"
   ]
  },
  {
   "cell_type": "code",
   "execution_count": 170,
   "id": "96662ca8",
   "metadata": {},
   "outputs": [],
   "source": [
    "dd=df.groupby(['param_alpha', 'param_learning_rate']).agg({'mean_test_score': \"mean\", 'std_test_score': \"mean\",'rank_test_score': 'mean'})"
   ]
  },
  {
   "cell_type": "code",
   "execution_count": 171,
   "id": "194dc30f",
   "metadata": {},
   "outputs": [],
   "source": [
    "xd=pd.DataFrame(dd)"
   ]
  },
  {
   "cell_type": "code",
   "execution_count": 172,
   "id": "c6ce50b3",
   "metadata": {},
   "outputs": [
    {
     "data": {
      "text/html": [
       "<div>\n",
       "<style scoped>\n",
       "    .dataframe tbody tr th:only-of-type {\n",
       "        vertical-align: middle;\n",
       "    }\n",
       "\n",
       "    .dataframe tbody tr th {\n",
       "        vertical-align: top;\n",
       "    }\n",
       "\n",
       "    .dataframe thead th {\n",
       "        text-align: right;\n",
       "    }\n",
       "</style>\n",
       "<table border=\"1\" class=\"dataframe\">\n",
       "  <thead>\n",
       "    <tr style=\"text-align: right;\">\n",
       "      <th></th>\n",
       "      <th></th>\n",
       "      <th>mean_test_score</th>\n",
       "      <th>std_test_score</th>\n",
       "      <th>rank_test_score</th>\n",
       "    </tr>\n",
       "    <tr>\n",
       "      <th>param_alpha</th>\n",
       "      <th>param_learning_rate</th>\n",
       "      <th></th>\n",
       "      <th></th>\n",
       "      <th></th>\n",
       "    </tr>\n",
       "  </thead>\n",
       "  <tbody>\n",
       "    <tr>\n",
       "      <th rowspan=\"3\" valign=\"top\">0.00000</th>\n",
       "      <th>constant</th>\n",
       "      <td>-3.805808e-01</td>\n",
       "      <td>1.402958e+00</td>\n",
       "      <td>32.233333</td>\n",
       "    </tr>\n",
       "    <tr>\n",
       "      <th>invscaling</th>\n",
       "      <td>-3.584252e-01</td>\n",
       "      <td>1.389057e+00</td>\n",
       "      <td>29.200000</td>\n",
       "    </tr>\n",
       "    <tr>\n",
       "      <th>optimal</th>\n",
       "      <td>NaN</td>\n",
       "      <td>NaN</td>\n",
       "      <td>87.500000</td>\n",
       "    </tr>\n",
       "    <tr>\n",
       "      <th rowspan=\"3\" valign=\"top\">0.00001</th>\n",
       "      <th>constant</th>\n",
       "      <td>-3.805663e-01</td>\n",
       "      <td>1.402935e+00</td>\n",
       "      <td>31.433333</td>\n",
       "    </tr>\n",
       "    <tr>\n",
       "      <th>invscaling</th>\n",
       "      <td>-3.584263e-01</td>\n",
       "      <td>1.389057e+00</td>\n",
       "      <td>29.600000</td>\n",
       "    </tr>\n",
       "    <tr>\n",
       "      <th>optimal</th>\n",
       "      <td>-1.589106e+30</td>\n",
       "      <td>2.068881e+30</td>\n",
       "      <td>81.500000</td>\n",
       "    </tr>\n",
       "    <tr>\n",
       "      <th rowspan=\"3\" valign=\"top\">0.00010</th>\n",
       "      <th>constant</th>\n",
       "      <td>-3.803521e-01</td>\n",
       "      <td>1.402755e+00</td>\n",
       "      <td>30.633333</td>\n",
       "    </tr>\n",
       "    <tr>\n",
       "      <th>invscaling</th>\n",
       "      <td>-3.584363e-01</td>\n",
       "      <td>1.389054e+00</td>\n",
       "      <td>30.000000</td>\n",
       "    </tr>\n",
       "    <tr>\n",
       "      <th>optimal</th>\n",
       "      <td>-5.013715e+28</td>\n",
       "      <td>7.327387e+28</td>\n",
       "      <td>75.500000</td>\n",
       "    </tr>\n",
       "    <tr>\n",
       "      <th rowspan=\"3\" valign=\"top\">0.00100</th>\n",
       "      <th>constant</th>\n",
       "      <td>-3.790012e-01</td>\n",
       "      <td>1.400709e+00</td>\n",
       "      <td>29.733333</td>\n",
       "    </tr>\n",
       "    <tr>\n",
       "      <th>invscaling</th>\n",
       "      <td>-3.586896e-01</td>\n",
       "      <td>1.388947e+00</td>\n",
       "      <td>30.233333</td>\n",
       "    </tr>\n",
       "    <tr>\n",
       "      <th>optimal</th>\n",
       "      <td>-3.697679e+26</td>\n",
       "      <td>4.980984e+26</td>\n",
       "      <td>69.500000</td>\n",
       "    </tr>\n",
       "    <tr>\n",
       "      <th rowspan=\"3\" valign=\"top\">0.01000</th>\n",
       "      <th>constant</th>\n",
       "      <td>-3.728069e-01</td>\n",
       "      <td>1.389149e+00</td>\n",
       "      <td>29.266667</td>\n",
       "    </tr>\n",
       "    <tr>\n",
       "      <th>invscaling</th>\n",
       "      <td>-3.610035e-01</td>\n",
       "      <td>1.389089e+00</td>\n",
       "      <td>32.666667</td>\n",
       "    </tr>\n",
       "    <tr>\n",
       "      <th>optimal</th>\n",
       "      <td>-1.529311e+24</td>\n",
       "      <td>2.704604e+24</td>\n",
       "      <td>63.500000</td>\n",
       "    </tr>\n",
       "  </tbody>\n",
       "</table>\n",
       "</div>"
      ],
      "text/plain": [
       "                                 mean_test_score  std_test_score  \\\n",
       "param_alpha param_learning_rate                                    \n",
       "0.00000     constant               -3.805808e-01    1.402958e+00   \n",
       "            invscaling             -3.584252e-01    1.389057e+00   \n",
       "            optimal                          NaN             NaN   \n",
       "0.00001     constant               -3.805663e-01    1.402935e+00   \n",
       "            invscaling             -3.584263e-01    1.389057e+00   \n",
       "            optimal                -1.589106e+30    2.068881e+30   \n",
       "0.00010     constant               -3.803521e-01    1.402755e+00   \n",
       "            invscaling             -3.584363e-01    1.389054e+00   \n",
       "            optimal                -5.013715e+28    7.327387e+28   \n",
       "0.00100     constant               -3.790012e-01    1.400709e+00   \n",
       "            invscaling             -3.586896e-01    1.388947e+00   \n",
       "            optimal                -3.697679e+26    4.980984e+26   \n",
       "0.01000     constant               -3.728069e-01    1.389149e+00   \n",
       "            invscaling             -3.610035e-01    1.389089e+00   \n",
       "            optimal                -1.529311e+24    2.704604e+24   \n",
       "\n",
       "                                 rank_test_score  \n",
       "param_alpha param_learning_rate                   \n",
       "0.00000     constant                   32.233333  \n",
       "            invscaling                 29.200000  \n",
       "            optimal                    87.500000  \n",
       "0.00001     constant                   31.433333  \n",
       "            invscaling                 29.600000  \n",
       "            optimal                    81.500000  \n",
       "0.00010     constant                   30.633333  \n",
       "            invscaling                 30.000000  \n",
       "            optimal                    75.500000  \n",
       "0.00100     constant                   29.733333  \n",
       "            invscaling                 30.233333  \n",
       "            optimal                    69.500000  \n",
       "0.01000     constant                   29.266667  \n",
       "            invscaling                 32.666667  \n",
       "            optimal                    63.500000  "
      ]
     },
     "execution_count": 172,
     "metadata": {},
     "output_type": "execute_result"
    }
   ],
   "source": [
    "xd"
   ]
  },
  {
   "cell_type": "code",
   "execution_count": 173,
   "id": "48b6bfc2",
   "metadata": {},
   "outputs": [],
   "source": [
    "xd.to_csv(\"../data/all_models/cv_results_interpretation/cv_results_SGDRegressor.csv\", encoding='utf-8', header=True)"
   ]
  },
  {
   "cell_type": "code",
   "execution_count": 174,
   "id": "a0f71363",
   "metadata": {},
   "outputs": [],
   "source": [
    "save_result(xd, 'SGDRegressor')"
   ]
  },
  {
   "cell_type": "markdown",
   "id": "f8212bac",
   "metadata": {},
   "source": [
    "### cv_results for LinearRegressor"
   ]
  },
  {
   "cell_type": "code",
   "execution_count": 175,
   "id": "d4684697",
   "metadata": {},
   "outputs": [],
   "source": [
    "df = pd.read_csv(\"../data/all_models/LinearRegression.csv\", header=0, index_col=0)"
   ]
  },
  {
   "cell_type": "code",
   "execution_count": 176,
   "id": "9c9c3afe",
   "metadata": {},
   "outputs": [
    {
     "data": {
      "text/plain": [
       "array(['mean_fit_time', 'std_fit_time', 'mean_score_time',\n",
       "       'std_score_time', 'params', 'split0_test_score',\n",
       "       'split1_test_score', 'split2_test_score', 'split3_test_score',\n",
       "       'split4_test_score', 'split5_test_score', 'split6_test_score',\n",
       "       'split7_test_score', 'split8_test_score', 'split9_test_score',\n",
       "       'mean_test_score', 'std_test_score', 'rank_test_score'],\n",
       "      dtype=object)"
      ]
     },
     "execution_count": 176,
     "metadata": {},
     "output_type": "execute_result"
    }
   ],
   "source": [
    "df.columns.values"
   ]
  },
  {
   "cell_type": "code",
   "execution_count": 178,
   "id": "084ca7e7",
   "metadata": {},
   "outputs": [],
   "source": [
    "dd=pd.DataFrame()"
   ]
  },
  {
   "cell_type": "code",
   "execution_count": 179,
   "id": "17208950",
   "metadata": {},
   "outputs": [],
   "source": [
    "dd = dd.assign(mean_test_score=[df[\"mean_test_score\"].mean()])\n",
    "dd = dd.assign(std_test_score=[df[\"std_test_score\"].mean()])\n",
    "dd = dd.assign(rank_test_score=[df[\"rank_test_score\"].mean()])"
   ]
  },
  {
   "cell_type": "code",
   "execution_count": 180,
   "id": "a6a7383f",
   "metadata": {},
   "outputs": [],
   "source": [
    "xd=pd.DataFrame(dd)"
   ]
  },
  {
   "cell_type": "code",
   "execution_count": 181,
   "id": "682bea72",
   "metadata": {},
   "outputs": [
    {
     "data": {
      "text/html": [
       "<div>\n",
       "<style scoped>\n",
       "    .dataframe tbody tr th:only-of-type {\n",
       "        vertical-align: middle;\n",
       "    }\n",
       "\n",
       "    .dataframe tbody tr th {\n",
       "        vertical-align: top;\n",
       "    }\n",
       "\n",
       "    .dataframe thead th {\n",
       "        text-align: right;\n",
       "    }\n",
       "</style>\n",
       "<table border=\"1\" class=\"dataframe\">\n",
       "  <thead>\n",
       "    <tr style=\"text-align: right;\">\n",
       "      <th></th>\n",
       "      <th>mean_test_score</th>\n",
       "      <th>std_test_score</th>\n",
       "      <th>rank_test_score</th>\n",
       "    </tr>\n",
       "  </thead>\n",
       "  <tbody>\n",
       "    <tr>\n",
       "      <th>0</th>\n",
       "      <td>-4.150485e+25</td>\n",
       "      <td>5.480480e+25</td>\n",
       "      <td>1.0</td>\n",
       "    </tr>\n",
       "  </tbody>\n",
       "</table>\n",
       "</div>"
      ],
      "text/plain": [
       "   mean_test_score  std_test_score  rank_test_score\n",
       "0    -4.150485e+25    5.480480e+25              1.0"
      ]
     },
     "execution_count": 181,
     "metadata": {},
     "output_type": "execute_result"
    }
   ],
   "source": [
    "xd"
   ]
  },
  {
   "cell_type": "code",
   "execution_count": 182,
   "id": "ed435e71",
   "metadata": {},
   "outputs": [],
   "source": [
    "save_result(xd, 'LinearRegressor')"
   ]
  },
  {
   "cell_type": "code",
   "execution_count": 183,
   "id": "7a96cdb9",
   "metadata": {},
   "outputs": [],
   "source": [
    "xd.to_csv(\"../data/all_models/cv_results_interpretation/cv_results_LinearRegressor.csv\", encoding='utf-8', header=True)"
   ]
  },
  {
   "cell_type": "code",
   "execution_count": 184,
   "id": "ee59a8a9",
   "metadata": {},
   "outputs": [
    {
     "data": {
      "text/html": [
       "<div>\n",
       "<style scoped>\n",
       "    .dataframe tbody tr th:only-of-type {\n",
       "        vertical-align: middle;\n",
       "    }\n",
       "\n",
       "    .dataframe tbody tr th {\n",
       "        vertical-align: top;\n",
       "    }\n",
       "\n",
       "    .dataframe thead th {\n",
       "        text-align: right;\n",
       "    }\n",
       "</style>\n",
       "<table border=\"1\" class=\"dataframe\">\n",
       "  <thead>\n",
       "    <tr style=\"text-align: right;\">\n",
       "      <th></th>\n",
       "      <th>model</th>\n",
       "      <th>max_mean_test_score</th>\n",
       "      <th>min_std_test_score</th>\n",
       "      <th>max_rank_test_score</th>\n",
       "    </tr>\n",
       "  </thead>\n",
       "  <tbody>\n",
       "    <tr>\n",
       "      <th>0</th>\n",
       "      <td>SVR</td>\n",
       "      <td>(0.1, 0.01, 3, auto, linear, 1e-05)</td>\n",
       "      <td>(0.0001, 10.0, 3, auto, sigmoid, 0.1)</td>\n",
       "      <td>(25.0, 0.5, 3, scale, sigmoid, 1e-05)</td>\n",
       "    </tr>\n",
       "    <tr>\n",
       "      <th>1</th>\n",
       "      <td>Lasso</td>\n",
       "      <td>(0.1, 0.01, 3, auto, linear, 1e-05)</td>\n",
       "      <td>0.5</td>\n",
       "      <td>0.5</td>\n",
       "    </tr>\n",
       "    <tr>\n",
       "      <th>2</th>\n",
       "      <td>SGDRegressor</td>\n",
       "      <td>(0.1, 0.01, 3, auto, linear, 1e-05)</td>\n",
       "      <td>(0.001, invscaling)</td>\n",
       "      <td>(0.0, optimal)</td>\n",
       "    </tr>\n",
       "    <tr>\n",
       "      <th>3</th>\n",
       "      <td>LinearRegressor</td>\n",
       "      <td>(0.1, 0.01, 3, auto, linear, 1e-05)</td>\n",
       "      <td>0</td>\n",
       "      <td>0</td>\n",
       "    </tr>\n",
       "  </tbody>\n",
       "</table>\n",
       "</div>"
      ],
      "text/plain": [
       "             model                  max_mean_test_score  \\\n",
       "0              SVR  (0.1, 0.01, 3, auto, linear, 1e-05)   \n",
       "1            Lasso  (0.1, 0.01, 3, auto, linear, 1e-05)   \n",
       "2     SGDRegressor  (0.1, 0.01, 3, auto, linear, 1e-05)   \n",
       "3  LinearRegressor  (0.1, 0.01, 3, auto, linear, 1e-05)   \n",
       "\n",
       "                      min_std_test_score  \\\n",
       "0  (0.0001, 10.0, 3, auto, sigmoid, 0.1)   \n",
       "1                                    0.5   \n",
       "2                    (0.001, invscaling)   \n",
       "3                                      0   \n",
       "\n",
       "                     max_rank_test_score  \n",
       "0  (25.0, 0.5, 3, scale, sigmoid, 1e-05)  \n",
       "1                                    0.5  \n",
       "2                         (0.0, optimal)  \n",
       "3                                      0  "
      ]
     },
     "execution_count": 184,
     "metadata": {},
     "output_type": "execute_result"
    }
   ],
   "source": [
    "pd.DataFrame(results)"
   ]
  }
 ],
 "metadata": {
  "kernelspec": {
   "display_name": "Python 3 (ipykernel)",
   "language": "python",
   "name": "python3"
  },
  "language_info": {
   "codemirror_mode": {
    "name": "ipython",
    "version": 3
   },
   "file_extension": ".py",
   "mimetype": "text/x-python",
   "name": "python",
   "nbconvert_exporter": "python",
   "pygments_lexer": "ipython3",
   "version": "3.9.7"
  }
 },
 "nbformat": 4,
 "nbformat_minor": 5
}
