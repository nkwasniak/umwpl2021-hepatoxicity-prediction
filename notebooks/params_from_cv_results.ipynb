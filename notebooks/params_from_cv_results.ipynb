{
 "cells": [
  {
   "cell_type": "markdown",
   "id": "0bdc310f",
   "metadata": {},
   "source": [
    "### cv_results for SVR"
   ]
  },
  {
   "cell_type": "code",
   "execution_count": 1,
   "id": "4fd733ba",
   "metadata": {},
   "outputs": [],
   "source": [
    "import pandas as pd\n",
    "df = pd.read_csv(\"../data/all_models/SVR.csv\", header=0, index_col=0)"
   ]
  },
  {
   "cell_type": "code",
   "execution_count": 2,
   "id": "eff65d76",
   "metadata": {},
   "outputs": [],
   "source": [
    "results=[]"
   ]
  },
  {
   "cell_type": "code",
   "execution_count": 3,
   "id": "80df57b3",
   "metadata": {},
   "outputs": [],
   "source": [
    "def save_result(df, model_name):\n",
    "    max_mean_params=df['mean_test_score'].idxmax()\n",
    "    results.append({'model' : model_name, 'params' : max_mean_params})"
   ]
  },
  {
   "cell_type": "code",
   "execution_count": 4,
   "id": "186a05e3",
   "metadata": {},
   "outputs": [
    {
     "data": {
      "text/plain": [
       "array(['mean_fit_time', 'std_fit_time', 'mean_score_time',\n",
       "       'std_score_time', 'param_C', 'param_coef0', 'param_degree',\n",
       "       'param_gamma', 'param_kernel', 'param_tol', 'params',\n",
       "       'split0_test_score', 'split1_test_score', 'split2_test_score',\n",
       "       'split3_test_score', 'split4_test_score', 'split5_test_score',\n",
       "       'split6_test_score', 'split7_test_score', 'split8_test_score',\n",
       "       'split9_test_score', 'mean_test_score', 'std_test_score',\n",
       "       'rank_test_score'], dtype=object)"
      ]
     },
     "execution_count": 4,
     "metadata": {},
     "output_type": "execute_result"
    }
   ],
   "source": [
    "df.columns.values"
   ]
  },
  {
   "cell_type": "code",
   "execution_count": 5,
   "id": "63874f1d",
   "metadata": {},
   "outputs": [],
   "source": [
    "dd=df.groupby(['param_C','param_coef0', 'param_degree', 'param_gamma', 'param_kernel', 'param_tol']).agg({'mean_test_score': \"mean\", 'std_test_score': \"mean\"})"
   ]
  },
  {
   "cell_type": "code",
   "execution_count": 6,
   "id": "ed4073e7",
   "metadata": {},
   "outputs": [],
   "source": [
    "xd=pd.DataFrame(dd)"
   ]
  },
  {
   "cell_type": "code",
   "execution_count": 7,
   "id": "65a2997c",
   "metadata": {},
   "outputs": [
    {
     "data": {
      "text/html": [
       "<div>\n",
       "<style scoped>\n",
       "    .dataframe tbody tr th:only-of-type {\n",
       "        vertical-align: middle;\n",
       "    }\n",
       "\n",
       "    .dataframe tbody tr th {\n",
       "        vertical-align: top;\n",
       "    }\n",
       "\n",
       "    .dataframe thead th {\n",
       "        text-align: right;\n",
       "    }\n",
       "</style>\n",
       "<table border=\"1\" class=\"dataframe\">\n",
       "  <thead>\n",
       "    <tr style=\"text-align: right;\">\n",
       "      <th></th>\n",
       "      <th></th>\n",
       "      <th></th>\n",
       "      <th></th>\n",
       "      <th></th>\n",
       "      <th></th>\n",
       "      <th>mean_test_score</th>\n",
       "      <th>std_test_score</th>\n",
       "    </tr>\n",
       "    <tr>\n",
       "      <th>param_C</th>\n",
       "      <th>param_coef0</th>\n",
       "      <th>param_degree</th>\n",
       "      <th>param_gamma</th>\n",
       "      <th>param_kernel</th>\n",
       "      <th>param_tol</th>\n",
       "      <th></th>\n",
       "      <th></th>\n",
       "    </tr>\n",
       "  </thead>\n",
       "  <tbody>\n",
       "    <tr>\n",
       "      <th rowspan=\"5\" valign=\"top\">0.0001</th>\n",
       "      <th rowspan=\"5\" valign=\"top\">0.01</th>\n",
       "      <th rowspan=\"5\" valign=\"top\">3</th>\n",
       "      <th rowspan=\"5\" valign=\"top\">auto</th>\n",
       "      <th rowspan=\"5\" valign=\"top\">linear</th>\n",
       "      <th>0.00001</th>\n",
       "      <td>-0.039704</td>\n",
       "      <td>0.063404</td>\n",
       "    </tr>\n",
       "    <tr>\n",
       "      <th>0.00010</th>\n",
       "      <td>-0.039705</td>\n",
       "      <td>0.063403</td>\n",
       "    </tr>\n",
       "    <tr>\n",
       "      <th>0.00100</th>\n",
       "      <td>-0.039720</td>\n",
       "      <td>0.063451</td>\n",
       "    </tr>\n",
       "    <tr>\n",
       "      <th>0.01000</th>\n",
       "      <td>-0.039778</td>\n",
       "      <td>0.063227</td>\n",
       "    </tr>\n",
       "    <tr>\n",
       "      <th>0.10000</th>\n",
       "      <td>-0.036781</td>\n",
       "      <td>0.061831</td>\n",
       "    </tr>\n",
       "    <tr>\n",
       "      <th>...</th>\n",
       "      <th>...</th>\n",
       "      <th>...</th>\n",
       "      <th>...</th>\n",
       "      <th>...</th>\n",
       "      <th>...</th>\n",
       "      <td>...</td>\n",
       "      <td>...</td>\n",
       "    </tr>\n",
       "    <tr>\n",
       "      <th rowspan=\"5\" valign=\"top\">25.0000</th>\n",
       "      <th rowspan=\"5\" valign=\"top\">10.00</th>\n",
       "      <th rowspan=\"5\" valign=\"top\">8</th>\n",
       "      <th rowspan=\"5\" valign=\"top\">scale</th>\n",
       "      <th rowspan=\"5\" valign=\"top\">sigmoid</th>\n",
       "      <th>0.00001</th>\n",
       "      <td>-0.056269</td>\n",
       "      <td>0.063646</td>\n",
       "    </tr>\n",
       "    <tr>\n",
       "      <th>0.00010</th>\n",
       "      <td>-0.056269</td>\n",
       "      <td>0.063646</td>\n",
       "    </tr>\n",
       "    <tr>\n",
       "      <th>0.00100</th>\n",
       "      <td>-0.056269</td>\n",
       "      <td>0.063646</td>\n",
       "    </tr>\n",
       "    <tr>\n",
       "      <th>0.01000</th>\n",
       "      <td>-0.056274</td>\n",
       "      <td>0.063647</td>\n",
       "    </tr>\n",
       "    <tr>\n",
       "      <th>0.10000</th>\n",
       "      <td>-0.051496</td>\n",
       "      <td>0.058165</td>\n",
       "    </tr>\n",
       "  </tbody>\n",
       "</table>\n",
       "<p>2640 rows × 2 columns</p>\n",
       "</div>"
      ],
      "text/plain": [
       "                                                                     mean_test_score  \\\n",
       "param_C param_coef0 param_degree param_gamma param_kernel param_tol                    \n",
       "0.0001  0.01        3            auto        linear       0.00001          -0.039704   \n",
       "                                                          0.00010          -0.039705   \n",
       "                                                          0.00100          -0.039720   \n",
       "                                                          0.01000          -0.039778   \n",
       "                                                          0.10000          -0.036781   \n",
       "...                                                                              ...   \n",
       "25.0000 10.00       8            scale       sigmoid      0.00001          -0.056269   \n",
       "                                                          0.00010          -0.056269   \n",
       "                                                          0.00100          -0.056269   \n",
       "                                                          0.01000          -0.056274   \n",
       "                                                          0.10000          -0.051496   \n",
       "\n",
       "                                                                     std_test_score  \n",
       "param_C param_coef0 param_degree param_gamma param_kernel param_tol                  \n",
       "0.0001  0.01        3            auto        linear       0.00001          0.063404  \n",
       "                                                          0.00010          0.063403  \n",
       "                                                          0.00100          0.063451  \n",
       "                                                          0.01000          0.063227  \n",
       "                                                          0.10000          0.061831  \n",
       "...                                                                             ...  \n",
       "25.0000 10.00       8            scale       sigmoid      0.00001          0.063646  \n",
       "                                                          0.00010          0.063646  \n",
       "                                                          0.00100          0.063646  \n",
       "                                                          0.01000          0.063647  \n",
       "                                                          0.10000          0.058165  \n",
       "\n",
       "[2640 rows x 2 columns]"
      ]
     },
     "execution_count": 7,
     "metadata": {},
     "output_type": "execute_result"
    }
   ],
   "source": [
    "xd"
   ]
  },
  {
   "cell_type": "code",
   "execution_count": 8,
   "id": "b5d04837",
   "metadata": {},
   "outputs": [],
   "source": [
    "xd.to_csv(\"../data/all_models/cv_results_interpretation/cv_results_SVR.csv\", encoding='utf-8', header=True)"
   ]
  },
  {
   "cell_type": "code",
   "execution_count": 9,
   "id": "1fb4fe70",
   "metadata": {},
   "outputs": [],
   "source": [
    "save_result(xd, 'SVR')"
   ]
  },
  {
   "cell_type": "markdown",
   "id": "30290a07",
   "metadata": {},
   "source": [
    "### cv_results for Lasso"
   ]
  },
  {
   "cell_type": "code",
   "execution_count": 10,
   "id": "3cf6ebc1",
   "metadata": {},
   "outputs": [],
   "source": [
    "df = pd.read_csv(\"../data/all_models/Lasso.csv\", header=0, index_col=0)"
   ]
  },
  {
   "cell_type": "code",
   "execution_count": 11,
   "id": "8ac1cf62",
   "metadata": {},
   "outputs": [
    {
     "data": {
      "text/plain": [
       "array(['mean_fit_time', 'std_fit_time', 'mean_score_time',\n",
       "       'std_score_time', 'param_alpha', 'param_random_state', 'params',\n",
       "       'split0_test_score', 'split1_test_score', 'split2_test_score',\n",
       "       'split3_test_score', 'split4_test_score', 'split5_test_score',\n",
       "       'split6_test_score', 'split7_test_score', 'split8_test_score',\n",
       "       'split9_test_score', 'mean_test_score', 'std_test_score',\n",
       "       'rank_test_score'], dtype=object)"
      ]
     },
     "execution_count": 11,
     "metadata": {},
     "output_type": "execute_result"
    }
   ],
   "source": [
    "df.columns.values"
   ]
  },
  {
   "cell_type": "code",
   "execution_count": 12,
   "id": "93f783e0",
   "metadata": {},
   "outputs": [],
   "source": [
    "dd=df.groupby(['param_alpha']).agg({'mean_test_score': \"mean\", 'std_test_score': \"mean\"})"
   ]
  },
  {
   "cell_type": "code",
   "execution_count": 13,
   "id": "b44801a6",
   "metadata": {},
   "outputs": [],
   "source": [
    "xd=pd.DataFrame(dd)"
   ]
  },
  {
   "cell_type": "code",
   "execution_count": 14,
   "id": "735a036e",
   "metadata": {},
   "outputs": [
    {
     "data": {
      "text/html": [
       "<div>\n",
       "<style scoped>\n",
       "    .dataframe tbody tr th:only-of-type {\n",
       "        vertical-align: middle;\n",
       "    }\n",
       "\n",
       "    .dataframe tbody tr th {\n",
       "        vertical-align: top;\n",
       "    }\n",
       "\n",
       "    .dataframe thead th {\n",
       "        text-align: right;\n",
       "    }\n",
       "</style>\n",
       "<table border=\"1\" class=\"dataframe\">\n",
       "  <thead>\n",
       "    <tr style=\"text-align: right;\">\n",
       "      <th></th>\n",
       "      <th>mean_test_score</th>\n",
       "      <th>std_test_score</th>\n",
       "    </tr>\n",
       "    <tr>\n",
       "      <th>param_alpha</th>\n",
       "      <th></th>\n",
       "      <th></th>\n",
       "    </tr>\n",
       "  </thead>\n",
       "  <tbody>\n",
       "    <tr>\n",
       "      <th>0.001</th>\n",
       "      <td>0.206384</td>\n",
       "      <td>0.617849</td>\n",
       "    </tr>\n",
       "    <tr>\n",
       "      <th>0.005</th>\n",
       "      <td>0.291197</td>\n",
       "      <td>0.512019</td>\n",
       "    </tr>\n",
       "    <tr>\n",
       "      <th>0.010</th>\n",
       "      <td>0.322450</td>\n",
       "      <td>0.456979</td>\n",
       "    </tr>\n",
       "    <tr>\n",
       "      <th>0.050</th>\n",
       "      <td>0.202680</td>\n",
       "      <td>0.258652</td>\n",
       "    </tr>\n",
       "    <tr>\n",
       "      <th>0.100</th>\n",
       "      <td>-0.008026</td>\n",
       "      <td>0.101629</td>\n",
       "    </tr>\n",
       "    <tr>\n",
       "      <th>0.500</th>\n",
       "      <td>-0.074849</td>\n",
       "      <td>0.068368</td>\n",
       "    </tr>\n",
       "    <tr>\n",
       "      <th>1.000</th>\n",
       "      <td>-0.074849</td>\n",
       "      <td>0.068368</td>\n",
       "    </tr>\n",
       "  </tbody>\n",
       "</table>\n",
       "</div>"
      ],
      "text/plain": [
       "             mean_test_score  std_test_score\n",
       "param_alpha                                 \n",
       "0.001               0.206384        0.617849\n",
       "0.005               0.291197        0.512019\n",
       "0.010               0.322450        0.456979\n",
       "0.050               0.202680        0.258652\n",
       "0.100              -0.008026        0.101629\n",
       "0.500              -0.074849        0.068368\n",
       "1.000              -0.074849        0.068368"
      ]
     },
     "execution_count": 14,
     "metadata": {},
     "output_type": "execute_result"
    }
   ],
   "source": [
    "xd"
   ]
  },
  {
   "cell_type": "code",
   "execution_count": 15,
   "id": "9e75c214",
   "metadata": {},
   "outputs": [],
   "source": [
    "# xd.to_csv(\"../data/all_models/cv_results_interpretation/cv_results_Lasso.csv\", encoding='utf-8', header=True)"
   ]
  },
  {
   "cell_type": "code",
   "execution_count": 16,
   "id": "12fdefdf",
   "metadata": {},
   "outputs": [],
   "source": [
    "save_result(xd, 'Lasso')"
   ]
  },
  {
   "cell_type": "markdown",
   "id": "d62a9782",
   "metadata": {},
   "source": [
    "### cv_results for SGDRegressor"
   ]
  },
  {
   "cell_type": "code",
   "execution_count": 17,
   "id": "f9191864",
   "metadata": {},
   "outputs": [],
   "source": [
    "df = pd.read_csv(\"../data/all_models/SGDRegressor.csv\", header=0, index_col=0)"
   ]
  },
  {
   "cell_type": "code",
   "execution_count": 18,
   "id": "864cc80b",
   "metadata": {},
   "outputs": [
    {
     "data": {
      "text/plain": [
       "array(['mean_fit_time', 'std_fit_time', 'mean_score_time',\n",
       "       'std_score_time', 'param_alpha', 'param_learning_rate',\n",
       "       'param_random_state', 'params', 'split0_test_score',\n",
       "       'split1_test_score', 'split2_test_score', 'split3_test_score',\n",
       "       'split4_test_score', 'split5_test_score', 'split6_test_score',\n",
       "       'split7_test_score', 'split8_test_score', 'split9_test_score',\n",
       "       'mean_test_score', 'std_test_score', 'rank_test_score'],\n",
       "      dtype=object)"
      ]
     },
     "execution_count": 18,
     "metadata": {},
     "output_type": "execute_result"
    }
   ],
   "source": [
    "df.columns.values"
   ]
  },
  {
   "cell_type": "code",
   "execution_count": 19,
   "id": "5299c251",
   "metadata": {},
   "outputs": [],
   "source": [
    "dd=df.groupby(['param_alpha', 'param_learning_rate']).agg({'mean_test_score': \"mean\", 'std_test_score': \"mean\"})"
   ]
  },
  {
   "cell_type": "code",
   "execution_count": 20,
   "id": "c5133c32",
   "metadata": {},
   "outputs": [],
   "source": [
    "xd=pd.DataFrame(dd)"
   ]
  },
  {
   "cell_type": "code",
   "execution_count": 21,
   "id": "30ca1641",
   "metadata": {},
   "outputs": [
    {
     "data": {
      "text/html": [
       "<div>\n",
       "<style scoped>\n",
       "    .dataframe tbody tr th:only-of-type {\n",
       "        vertical-align: middle;\n",
       "    }\n",
       "\n",
       "    .dataframe tbody tr th {\n",
       "        vertical-align: top;\n",
       "    }\n",
       "\n",
       "    .dataframe thead th {\n",
       "        text-align: right;\n",
       "    }\n",
       "</style>\n",
       "<table border=\"1\" class=\"dataframe\">\n",
       "  <thead>\n",
       "    <tr style=\"text-align: right;\">\n",
       "      <th></th>\n",
       "      <th></th>\n",
       "      <th>mean_test_score</th>\n",
       "      <th>std_test_score</th>\n",
       "    </tr>\n",
       "    <tr>\n",
       "      <th>param_alpha</th>\n",
       "      <th>param_learning_rate</th>\n",
       "      <th></th>\n",
       "      <th></th>\n",
       "    </tr>\n",
       "  </thead>\n",
       "  <tbody>\n",
       "    <tr>\n",
       "      <th rowspan=\"3\" valign=\"top\">0.00000</th>\n",
       "      <th>constant</th>\n",
       "      <td>-3.805808e-01</td>\n",
       "      <td>1.402958e+00</td>\n",
       "    </tr>\n",
       "    <tr>\n",
       "      <th>invscaling</th>\n",
       "      <td>-3.584252e-01</td>\n",
       "      <td>1.389057e+00</td>\n",
       "    </tr>\n",
       "    <tr>\n",
       "      <th>optimal</th>\n",
       "      <td>NaN</td>\n",
       "      <td>NaN</td>\n",
       "    </tr>\n",
       "    <tr>\n",
       "      <th rowspan=\"3\" valign=\"top\">0.00001</th>\n",
       "      <th>constant</th>\n",
       "      <td>-3.805663e-01</td>\n",
       "      <td>1.402935e+00</td>\n",
       "    </tr>\n",
       "    <tr>\n",
       "      <th>invscaling</th>\n",
       "      <td>-3.584263e-01</td>\n",
       "      <td>1.389057e+00</td>\n",
       "    </tr>\n",
       "    <tr>\n",
       "      <th>optimal</th>\n",
       "      <td>-1.589106e+30</td>\n",
       "      <td>2.068881e+30</td>\n",
       "    </tr>\n",
       "    <tr>\n",
       "      <th rowspan=\"3\" valign=\"top\">0.00010</th>\n",
       "      <th>constant</th>\n",
       "      <td>-3.803521e-01</td>\n",
       "      <td>1.402755e+00</td>\n",
       "    </tr>\n",
       "    <tr>\n",
       "      <th>invscaling</th>\n",
       "      <td>-3.584363e-01</td>\n",
       "      <td>1.389054e+00</td>\n",
       "    </tr>\n",
       "    <tr>\n",
       "      <th>optimal</th>\n",
       "      <td>-5.013715e+28</td>\n",
       "      <td>7.327387e+28</td>\n",
       "    </tr>\n",
       "    <tr>\n",
       "      <th rowspan=\"3\" valign=\"top\">0.00100</th>\n",
       "      <th>constant</th>\n",
       "      <td>-3.790012e-01</td>\n",
       "      <td>1.400709e+00</td>\n",
       "    </tr>\n",
       "    <tr>\n",
       "      <th>invscaling</th>\n",
       "      <td>-3.586896e-01</td>\n",
       "      <td>1.388947e+00</td>\n",
       "    </tr>\n",
       "    <tr>\n",
       "      <th>optimal</th>\n",
       "      <td>-3.697679e+26</td>\n",
       "      <td>4.980984e+26</td>\n",
       "    </tr>\n",
       "    <tr>\n",
       "      <th rowspan=\"3\" valign=\"top\">0.01000</th>\n",
       "      <th>constant</th>\n",
       "      <td>-3.728069e-01</td>\n",
       "      <td>1.389149e+00</td>\n",
       "    </tr>\n",
       "    <tr>\n",
       "      <th>invscaling</th>\n",
       "      <td>-3.610035e-01</td>\n",
       "      <td>1.389089e+00</td>\n",
       "    </tr>\n",
       "    <tr>\n",
       "      <th>optimal</th>\n",
       "      <td>-1.529311e+24</td>\n",
       "      <td>2.704604e+24</td>\n",
       "    </tr>\n",
       "  </tbody>\n",
       "</table>\n",
       "</div>"
      ],
      "text/plain": [
       "                                 mean_test_score  std_test_score\n",
       "param_alpha param_learning_rate                                 \n",
       "0.00000     constant               -3.805808e-01    1.402958e+00\n",
       "            invscaling             -3.584252e-01    1.389057e+00\n",
       "            optimal                          NaN             NaN\n",
       "0.00001     constant               -3.805663e-01    1.402935e+00\n",
       "            invscaling             -3.584263e-01    1.389057e+00\n",
       "            optimal                -1.589106e+30    2.068881e+30\n",
       "0.00010     constant               -3.803521e-01    1.402755e+00\n",
       "            invscaling             -3.584363e-01    1.389054e+00\n",
       "            optimal                -5.013715e+28    7.327387e+28\n",
       "0.00100     constant               -3.790012e-01    1.400709e+00\n",
       "            invscaling             -3.586896e-01    1.388947e+00\n",
       "            optimal                -3.697679e+26    4.980984e+26\n",
       "0.01000     constant               -3.728069e-01    1.389149e+00\n",
       "            invscaling             -3.610035e-01    1.389089e+00\n",
       "            optimal                -1.529311e+24    2.704604e+24"
      ]
     },
     "execution_count": 21,
     "metadata": {},
     "output_type": "execute_result"
    }
   ],
   "source": [
    "xd"
   ]
  },
  {
   "cell_type": "code",
   "execution_count": 22,
   "id": "e99dda43",
   "metadata": {},
   "outputs": [],
   "source": [
    "xd.to_csv(\"../data/all_models/cv_results_interpretation/cv_results_SGDRegressor.csv\", encoding='utf-8', header=True)"
   ]
  },
  {
   "cell_type": "code",
   "execution_count": 23,
   "id": "cf3c6cf9",
   "metadata": {},
   "outputs": [],
   "source": [
    "save_result(xd, 'SGDRegressor')"
   ]
  },
  {
   "cell_type": "markdown",
   "id": "355c6364",
   "metadata": {},
   "source": [
    "### cv_results for LinearRegressor"
   ]
  },
  {
   "cell_type": "code",
   "execution_count": 24,
   "id": "91e7443f",
   "metadata": {},
   "outputs": [],
   "source": [
    "df = pd.read_csv(\"../data/all_models/LinearRegression.csv\", header=0, index_col=0)"
   ]
  },
  {
   "cell_type": "code",
   "execution_count": 25,
   "id": "37af3e59",
   "metadata": {},
   "outputs": [
    {
     "data": {
      "text/plain": [
       "array(['mean_fit_time', 'std_fit_time', 'mean_score_time',\n",
       "       'std_score_time', 'params', 'split0_test_score',\n",
       "       'split1_test_score', 'split2_test_score', 'split3_test_score',\n",
       "       'split4_test_score', 'split5_test_score', 'split6_test_score',\n",
       "       'split7_test_score', 'split8_test_score', 'split9_test_score',\n",
       "       'mean_test_score', 'std_test_score', 'rank_test_score'],\n",
       "      dtype=object)"
      ]
     },
     "execution_count": 25,
     "metadata": {},
     "output_type": "execute_result"
    }
   ],
   "source": [
    "df.columns.values"
   ]
  },
  {
   "cell_type": "code",
   "execution_count": 26,
   "id": "8a8acd01",
   "metadata": {},
   "outputs": [],
   "source": [
    "dd=pd.DataFrame()"
   ]
  },
  {
   "cell_type": "code",
   "execution_count": 27,
   "id": "27cb9c25",
   "metadata": {},
   "outputs": [],
   "source": [
    "dd = dd.assign(mean_test_score=[df[\"mean_test_score\"].mean()])\n",
    "dd = dd.assign(std_test_score=[df[\"std_test_score\"].mean()])"
   ]
  },
  {
   "cell_type": "code",
   "execution_count": 28,
   "id": "a30820f6",
   "metadata": {},
   "outputs": [],
   "source": [
    "xd=pd.DataFrame(dd)"
   ]
  },
  {
   "cell_type": "code",
   "execution_count": 29,
   "id": "1e712281",
   "metadata": {},
   "outputs": [
    {
     "data": {
      "text/html": [
       "<div>\n",
       "<style scoped>\n",
       "    .dataframe tbody tr th:only-of-type {\n",
       "        vertical-align: middle;\n",
       "    }\n",
       "\n",
       "    .dataframe tbody tr th {\n",
       "        vertical-align: top;\n",
       "    }\n",
       "\n",
       "    .dataframe thead th {\n",
       "        text-align: right;\n",
       "    }\n",
       "</style>\n",
       "<table border=\"1\" class=\"dataframe\">\n",
       "  <thead>\n",
       "    <tr style=\"text-align: right;\">\n",
       "      <th></th>\n",
       "      <th>mean_test_score</th>\n",
       "      <th>std_test_score</th>\n",
       "    </tr>\n",
       "  </thead>\n",
       "  <tbody>\n",
       "    <tr>\n",
       "      <th>0</th>\n",
       "      <td>-4.150485e+25</td>\n",
       "      <td>5.480480e+25</td>\n",
       "    </tr>\n",
       "  </tbody>\n",
       "</table>\n",
       "</div>"
      ],
      "text/plain": [
       "   mean_test_score  std_test_score\n",
       "0    -4.150485e+25    5.480480e+25"
      ]
     },
     "execution_count": 29,
     "metadata": {},
     "output_type": "execute_result"
    }
   ],
   "source": [
    "xd"
   ]
  },
  {
   "cell_type": "code",
   "execution_count": 30,
   "id": "d8d79f15",
   "metadata": {},
   "outputs": [],
   "source": [
    "save_result(xd, 'LinearRegressor')"
   ]
  },
  {
   "cell_type": "code",
   "execution_count": 31,
   "id": "fe6b9b2c",
   "metadata": {},
   "outputs": [],
   "source": [
    "xd.to_csv(\"../data/all_models/cv_results_interpretation/cv_results_LinearRegressor.csv\", encoding='utf-8', header=True)"
   ]
  },
  {
   "cell_type": "code",
   "execution_count": 32,
   "id": "40fc9c8f",
   "metadata": {},
   "outputs": [],
   "source": [
    "res=pd.DataFrame(results)"
   ]
  },
  {
   "cell_type": "code",
   "execution_count": 33,
   "id": "4405f40b",
   "metadata": {},
   "outputs": [
    {
     "data": {
      "text/html": [
       "<div>\n",
       "<style scoped>\n",
       "    .dataframe tbody tr th:only-of-type {\n",
       "        vertical-align: middle;\n",
       "    }\n",
       "\n",
       "    .dataframe tbody tr th {\n",
       "        vertical-align: top;\n",
       "    }\n",
       "\n",
       "    .dataframe thead th {\n",
       "        text-align: right;\n",
       "    }\n",
       "</style>\n",
       "<table border=\"1\" class=\"dataframe\">\n",
       "  <thead>\n",
       "    <tr style=\"text-align: right;\">\n",
       "      <th></th>\n",
       "      <th>model</th>\n",
       "      <th>params</th>\n",
       "    </tr>\n",
       "  </thead>\n",
       "  <tbody>\n",
       "    <tr>\n",
       "      <th>0</th>\n",
       "      <td>SVR</td>\n",
       "      <td>(0.1, 0.01, 3, auto, linear, 1e-05)</td>\n",
       "    </tr>\n",
       "    <tr>\n",
       "      <th>1</th>\n",
       "      <td>Lasso</td>\n",
       "      <td>0.01</td>\n",
       "    </tr>\n",
       "    <tr>\n",
       "      <th>2</th>\n",
       "      <td>SGDRegressor</td>\n",
       "      <td>(0.0, invscaling)</td>\n",
       "    </tr>\n",
       "    <tr>\n",
       "      <th>3</th>\n",
       "      <td>LinearRegressor</td>\n",
       "      <td>0</td>\n",
       "    </tr>\n",
       "  </tbody>\n",
       "</table>\n",
       "</div>"
      ],
      "text/plain": [
       "             model                               params\n",
       "0              SVR  (0.1, 0.01, 3, auto, linear, 1e-05)\n",
       "1            Lasso                                 0.01\n",
       "2     SGDRegressor                    (0.0, invscaling)\n",
       "3  LinearRegressor                                    0"
      ]
     },
     "execution_count": 33,
     "metadata": {},
     "output_type": "execute_result"
    }
   ],
   "source": [
    "res"
   ]
  },
  {
   "cell_type": "code",
   "execution_count": 34,
   "id": "097887ad",
   "metadata": {},
   "outputs": [],
   "source": [
    "res.to_csv(\"../data/all_models/cv_results_interpretation/cv_results_all_models.csv\", encoding='utf-8', header=True)"
   ]
  },
  {
   "cell_type": "code",
   "execution_count": null,
   "id": "225e9382",
   "metadata": {},
   "outputs": [],
   "source": []
  }
 ],
 "metadata": {
  "kernelspec": {
   "display_name": "Python 3 (ipykernel)",
   "language": "python",
   "name": "python3"
  },
  "language_info": {
   "codemirror_mode": {
    "name": "ipython",
    "version": 3
   },
   "file_extension": ".py",
   "mimetype": "text/x-python",
   "name": "python",
   "nbconvert_exporter": "python",
   "pygments_lexer": "ipython3",
   "version": "3.9.7"
  }
 },
 "nbformat": 4,
 "nbformat_minor": 5
}
