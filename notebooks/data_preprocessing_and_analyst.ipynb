{
 "cells": [
  {
   "cell_type": "markdown",
   "id": "fd4f753c",
   "metadata": {},
   "source": [
    "### Preprocessing data and analyst"
   ]
  },
  {
   "cell_type": "code",
   "execution_count": 1,
   "id": "2a27c78f",
   "metadata": {},
   "outputs": [],
   "source": [
    "import pandas as pd\n",
    "import numpy as np\n",
    "import seaborn as sns"
   ]
  },
  {
   "cell_type": "code",
   "execution_count": 2,
   "id": "72710833",
   "metadata": {},
   "outputs": [],
   "source": [
    "df = pd.read_csv(\"../data/hepatotoxicity_ALT_KlekFP_ready_set_after_conversion.csv\", header=0, index_col=False)"
   ]
  },
  {
   "cell_type": "code",
   "execution_count": 3,
   "id": "eb7196c6",
   "metadata": {},
   "outputs": [
    {
     "data": {
      "text/html": [
       "<div>\n",
       "<style scoped>\n",
       "    .dataframe tbody tr th:only-of-type {\n",
       "        vertical-align: middle;\n",
       "    }\n",
       "\n",
       "    .dataframe tbody tr th {\n",
       "        vertical-align: top;\n",
       "    }\n",
       "\n",
       "    .dataframe thead th {\n",
       "        text-align: right;\n",
       "    }\n",
       "</style>\n",
       "<table border=\"1\" class=\"dataframe\">\n",
       "  <thead>\n",
       "    <tr style=\"text-align: right;\">\n",
       "      <th></th>\n",
       "      <th>ALT</th>\n",
       "      <th>KRFP1</th>\n",
       "      <th>KRFP2</th>\n",
       "      <th>KRFP3</th>\n",
       "      <th>KRFP4</th>\n",
       "      <th>KRFP5</th>\n",
       "      <th>KRFP6</th>\n",
       "      <th>KRFP7</th>\n",
       "      <th>KRFP8</th>\n",
       "      <th>KRFP9</th>\n",
       "      <th>...</th>\n",
       "      <th>KRFP4851</th>\n",
       "      <th>KRFP4852</th>\n",
       "      <th>KRFP4853</th>\n",
       "      <th>KRFP4854</th>\n",
       "      <th>KRFP4855</th>\n",
       "      <th>KRFP4856</th>\n",
       "      <th>KRFP4857</th>\n",
       "      <th>KRFP4858</th>\n",
       "      <th>KRFP4859</th>\n",
       "      <th>KRFP4860</th>\n",
       "    </tr>\n",
       "  </thead>\n",
       "  <tbody>\n",
       "    <tr>\n",
       "      <th>0</th>\n",
       "      <td>32.60</td>\n",
       "      <td>1.0</td>\n",
       "      <td>0.0</td>\n",
       "      <td>0.0</td>\n",
       "      <td>0.0</td>\n",
       "      <td>0.0</td>\n",
       "      <td>0.0</td>\n",
       "      <td>0.0</td>\n",
       "      <td>0.0</td>\n",
       "      <td>0.0</td>\n",
       "      <td>...</td>\n",
       "      <td>0.0</td>\n",
       "      <td>0.0</td>\n",
       "      <td>0.0</td>\n",
       "      <td>0.0</td>\n",
       "      <td>0.0</td>\n",
       "      <td>0.0</td>\n",
       "      <td>0.0</td>\n",
       "      <td>0.0</td>\n",
       "      <td>0.0</td>\n",
       "      <td>0.0</td>\n",
       "    </tr>\n",
       "    <tr>\n",
       "      <th>1</th>\n",
       "      <td>37.20</td>\n",
       "      <td>1.0</td>\n",
       "      <td>0.0</td>\n",
       "      <td>0.0</td>\n",
       "      <td>0.0</td>\n",
       "      <td>0.0</td>\n",
       "      <td>0.0</td>\n",
       "      <td>0.0</td>\n",
       "      <td>0.0</td>\n",
       "      <td>0.0</td>\n",
       "      <td>...</td>\n",
       "      <td>0.0</td>\n",
       "      <td>0.0</td>\n",
       "      <td>0.0</td>\n",
       "      <td>0.0</td>\n",
       "      <td>0.0</td>\n",
       "      <td>0.0</td>\n",
       "      <td>0.0</td>\n",
       "      <td>0.0</td>\n",
       "      <td>0.0</td>\n",
       "      <td>0.0</td>\n",
       "    </tr>\n",
       "    <tr>\n",
       "      <th>2</th>\n",
       "      <td>2.92</td>\n",
       "      <td>0.0</td>\n",
       "      <td>0.0</td>\n",
       "      <td>0.0</td>\n",
       "      <td>0.0</td>\n",
       "      <td>0.0</td>\n",
       "      <td>0.0</td>\n",
       "      <td>0.0</td>\n",
       "      <td>0.0</td>\n",
       "      <td>0.0</td>\n",
       "      <td>...</td>\n",
       "      <td>0.0</td>\n",
       "      <td>1.0</td>\n",
       "      <td>0.0</td>\n",
       "      <td>0.0</td>\n",
       "      <td>0.0</td>\n",
       "      <td>1.0</td>\n",
       "      <td>0.0</td>\n",
       "      <td>0.0</td>\n",
       "      <td>0.0</td>\n",
       "      <td>0.0</td>\n",
       "    </tr>\n",
       "    <tr>\n",
       "      <th>3</th>\n",
       "      <td>3.16</td>\n",
       "      <td>0.0</td>\n",
       "      <td>0.0</td>\n",
       "      <td>0.0</td>\n",
       "      <td>0.0</td>\n",
       "      <td>0.0</td>\n",
       "      <td>0.0</td>\n",
       "      <td>0.0</td>\n",
       "      <td>0.0</td>\n",
       "      <td>0.0</td>\n",
       "      <td>...</td>\n",
       "      <td>0.0</td>\n",
       "      <td>1.0</td>\n",
       "      <td>0.0</td>\n",
       "      <td>0.0</td>\n",
       "      <td>0.0</td>\n",
       "      <td>1.0</td>\n",
       "      <td>0.0</td>\n",
       "      <td>0.0</td>\n",
       "      <td>0.0</td>\n",
       "      <td>0.0</td>\n",
       "    </tr>\n",
       "    <tr>\n",
       "      <th>4</th>\n",
       "      <td>44.10</td>\n",
       "      <td>1.0</td>\n",
       "      <td>1.0</td>\n",
       "      <td>0.0</td>\n",
       "      <td>0.0</td>\n",
       "      <td>0.0</td>\n",
       "      <td>0.0</td>\n",
       "      <td>0.0</td>\n",
       "      <td>0.0</td>\n",
       "      <td>0.0</td>\n",
       "      <td>...</td>\n",
       "      <td>0.0</td>\n",
       "      <td>0.0</td>\n",
       "      <td>0.0</td>\n",
       "      <td>0.0</td>\n",
       "      <td>0.0</td>\n",
       "      <td>0.0</td>\n",
       "      <td>0.0</td>\n",
       "      <td>0.0</td>\n",
       "      <td>0.0</td>\n",
       "      <td>0.0</td>\n",
       "    </tr>\n",
       "  </tbody>\n",
       "</table>\n",
       "<p>5 rows × 4861 columns</p>\n",
       "</div>"
      ],
      "text/plain": [
       "     ALT  KRFP1  KRFP2  KRFP3  KRFP4  KRFP5  KRFP6  KRFP7  KRFP8  KRFP9  ...  \\\n",
       "0  32.60    1.0    0.0    0.0    0.0    0.0    0.0    0.0    0.0    0.0  ...   \n",
       "1  37.20    1.0    0.0    0.0    0.0    0.0    0.0    0.0    0.0    0.0  ...   \n",
       "2   2.92    0.0    0.0    0.0    0.0    0.0    0.0    0.0    0.0    0.0  ...   \n",
       "3   3.16    0.0    0.0    0.0    0.0    0.0    0.0    0.0    0.0    0.0  ...   \n",
       "4  44.10    1.0    1.0    0.0    0.0    0.0    0.0    0.0    0.0    0.0  ...   \n",
       "\n",
       "   KRFP4851  KRFP4852  KRFP4853  KRFP4854  KRFP4855  KRFP4856  KRFP4857  \\\n",
       "0       0.0       0.0       0.0       0.0       0.0       0.0       0.0   \n",
       "1       0.0       0.0       0.0       0.0       0.0       0.0       0.0   \n",
       "2       0.0       1.0       0.0       0.0       0.0       1.0       0.0   \n",
       "3       0.0       1.0       0.0       0.0       0.0       1.0       0.0   \n",
       "4       0.0       0.0       0.0       0.0       0.0       0.0       0.0   \n",
       "\n",
       "   KRFP4858  KRFP4859  KRFP4860  \n",
       "0       0.0       0.0       0.0  \n",
       "1       0.0       0.0       0.0  \n",
       "2       0.0       0.0       0.0  \n",
       "3       0.0       0.0       0.0  \n",
       "4       0.0       0.0       0.0  \n",
       "\n",
       "[5 rows x 4861 columns]"
      ]
     },
     "execution_count": 3,
     "metadata": {},
     "output_type": "execute_result"
    }
   ],
   "source": [
    "df.head()"
   ]
  },
  {
   "cell_type": "code",
   "execution_count": 4,
   "id": "b7f2a17c",
   "metadata": {},
   "outputs": [
    {
     "name": "stdout",
     "output_type": "stream",
     "text": [
      "<class 'pandas.core.frame.DataFrame'>\n",
      "RangeIndex: 98 entries, 0 to 97\n",
      "Columns: 4861 entries, ALT to KRFP4860\n",
      "dtypes: float64(4861)\n",
      "memory usage: 3.6 MB\n"
     ]
    }
   ],
   "source": [
    "df.info()"
   ]
  },
  {
   "cell_type": "code",
   "execution_count": 5,
   "id": "3a53fafa",
   "metadata": {},
   "outputs": [
    {
     "data": {
      "text/html": [
       "<div>\n",
       "<style scoped>\n",
       "    .dataframe tbody tr th:only-of-type {\n",
       "        vertical-align: middle;\n",
       "    }\n",
       "\n",
       "    .dataframe tbody tr th {\n",
       "        vertical-align: top;\n",
       "    }\n",
       "\n",
       "    .dataframe thead th {\n",
       "        text-align: right;\n",
       "    }\n",
       "</style>\n",
       "<table border=\"1\" class=\"dataframe\">\n",
       "  <thead>\n",
       "    <tr style=\"text-align: right;\">\n",
       "      <th></th>\n",
       "      <th>ALT</th>\n",
       "      <th>KRFP1</th>\n",
       "      <th>KRFP2</th>\n",
       "      <th>KRFP3</th>\n",
       "      <th>KRFP4</th>\n",
       "      <th>KRFP5</th>\n",
       "      <th>KRFP6</th>\n",
       "      <th>KRFP7</th>\n",
       "      <th>KRFP8</th>\n",
       "      <th>KRFP9</th>\n",
       "      <th>...</th>\n",
       "      <th>KRFP4851</th>\n",
       "      <th>KRFP4852</th>\n",
       "      <th>KRFP4853</th>\n",
       "      <th>KRFP4854</th>\n",
       "      <th>KRFP4855</th>\n",
       "      <th>KRFP4856</th>\n",
       "      <th>KRFP4857</th>\n",
       "      <th>KRFP4858</th>\n",
       "      <th>KRFP4859</th>\n",
       "      <th>KRFP4860</th>\n",
       "    </tr>\n",
       "  </thead>\n",
       "  <tbody>\n",
       "    <tr>\n",
       "      <th>count</th>\n",
       "      <td>98.000000</td>\n",
       "      <td>98.000000</td>\n",
       "      <td>98.000000</td>\n",
       "      <td>98.0</td>\n",
       "      <td>98.0</td>\n",
       "      <td>98.0</td>\n",
       "      <td>98.0</td>\n",
       "      <td>98.0</td>\n",
       "      <td>98.0</td>\n",
       "      <td>98.0</td>\n",
       "      <td>...</td>\n",
       "      <td>98.0</td>\n",
       "      <td>98.000000</td>\n",
       "      <td>98.0</td>\n",
       "      <td>98.0</td>\n",
       "      <td>98.0</td>\n",
       "      <td>98.000000</td>\n",
       "      <td>98.0</td>\n",
       "      <td>98.0</td>\n",
       "      <td>98.0</td>\n",
       "      <td>98.0</td>\n",
       "    </tr>\n",
       "    <tr>\n",
       "      <th>mean</th>\n",
       "      <td>47.119898</td>\n",
       "      <td>0.693878</td>\n",
       "      <td>0.418367</td>\n",
       "      <td>0.0</td>\n",
       "      <td>0.0</td>\n",
       "      <td>0.0</td>\n",
       "      <td>0.0</td>\n",
       "      <td>0.0</td>\n",
       "      <td>0.0</td>\n",
       "      <td>0.0</td>\n",
       "      <td>...</td>\n",
       "      <td>0.0</td>\n",
       "      <td>0.051020</td>\n",
       "      <td>0.0</td>\n",
       "      <td>0.0</td>\n",
       "      <td>0.0</td>\n",
       "      <td>0.051020</td>\n",
       "      <td>0.0</td>\n",
       "      <td>0.0</td>\n",
       "      <td>0.0</td>\n",
       "      <td>0.0</td>\n",
       "    </tr>\n",
       "    <tr>\n",
       "      <th>std</th>\n",
       "      <td>45.294039</td>\n",
       "      <td>0.463251</td>\n",
       "      <td>0.495827</td>\n",
       "      <td>0.0</td>\n",
       "      <td>0.0</td>\n",
       "      <td>0.0</td>\n",
       "      <td>0.0</td>\n",
       "      <td>0.0</td>\n",
       "      <td>0.0</td>\n",
       "      <td>0.0</td>\n",
       "      <td>...</td>\n",
       "      <td>0.0</td>\n",
       "      <td>0.221171</td>\n",
       "      <td>0.0</td>\n",
       "      <td>0.0</td>\n",
       "      <td>0.0</td>\n",
       "      <td>0.221171</td>\n",
       "      <td>0.0</td>\n",
       "      <td>0.0</td>\n",
       "      <td>0.0</td>\n",
       "      <td>0.0</td>\n",
       "    </tr>\n",
       "    <tr>\n",
       "      <th>min</th>\n",
       "      <td>1.510000</td>\n",
       "      <td>0.000000</td>\n",
       "      <td>0.000000</td>\n",
       "      <td>0.0</td>\n",
       "      <td>0.0</td>\n",
       "      <td>0.0</td>\n",
       "      <td>0.0</td>\n",
       "      <td>0.0</td>\n",
       "      <td>0.0</td>\n",
       "      <td>0.0</td>\n",
       "      <td>...</td>\n",
       "      <td>0.0</td>\n",
       "      <td>0.000000</td>\n",
       "      <td>0.0</td>\n",
       "      <td>0.0</td>\n",
       "      <td>0.0</td>\n",
       "      <td>0.000000</td>\n",
       "      <td>0.0</td>\n",
       "      <td>0.0</td>\n",
       "      <td>0.0</td>\n",
       "      <td>0.0</td>\n",
       "    </tr>\n",
       "    <tr>\n",
       "      <th>25%</th>\n",
       "      <td>29.775000</td>\n",
       "      <td>0.000000</td>\n",
       "      <td>0.000000</td>\n",
       "      <td>0.0</td>\n",
       "      <td>0.0</td>\n",
       "      <td>0.0</td>\n",
       "      <td>0.0</td>\n",
       "      <td>0.0</td>\n",
       "      <td>0.0</td>\n",
       "      <td>0.0</td>\n",
       "      <td>...</td>\n",
       "      <td>0.0</td>\n",
       "      <td>0.000000</td>\n",
       "      <td>0.0</td>\n",
       "      <td>0.0</td>\n",
       "      <td>0.0</td>\n",
       "      <td>0.000000</td>\n",
       "      <td>0.0</td>\n",
       "      <td>0.0</td>\n",
       "      <td>0.0</td>\n",
       "      <td>0.0</td>\n",
       "    </tr>\n",
       "    <tr>\n",
       "      <th>50%</th>\n",
       "      <td>36.300000</td>\n",
       "      <td>1.000000</td>\n",
       "      <td>0.000000</td>\n",
       "      <td>0.0</td>\n",
       "      <td>0.0</td>\n",
       "      <td>0.0</td>\n",
       "      <td>0.0</td>\n",
       "      <td>0.0</td>\n",
       "      <td>0.0</td>\n",
       "      <td>0.0</td>\n",
       "      <td>...</td>\n",
       "      <td>0.0</td>\n",
       "      <td>0.000000</td>\n",
       "      <td>0.0</td>\n",
       "      <td>0.0</td>\n",
       "      <td>0.0</td>\n",
       "      <td>0.000000</td>\n",
       "      <td>0.0</td>\n",
       "      <td>0.0</td>\n",
       "      <td>0.0</td>\n",
       "      <td>0.0</td>\n",
       "    </tr>\n",
       "    <tr>\n",
       "      <th>75%</th>\n",
       "      <td>49.000000</td>\n",
       "      <td>1.000000</td>\n",
       "      <td>1.000000</td>\n",
       "      <td>0.0</td>\n",
       "      <td>0.0</td>\n",
       "      <td>0.0</td>\n",
       "      <td>0.0</td>\n",
       "      <td>0.0</td>\n",
       "      <td>0.0</td>\n",
       "      <td>0.0</td>\n",
       "      <td>...</td>\n",
       "      <td>0.0</td>\n",
       "      <td>0.000000</td>\n",
       "      <td>0.0</td>\n",
       "      <td>0.0</td>\n",
       "      <td>0.0</td>\n",
       "      <td>0.000000</td>\n",
       "      <td>0.0</td>\n",
       "      <td>0.0</td>\n",
       "      <td>0.0</td>\n",
       "      <td>0.0</td>\n",
       "    </tr>\n",
       "    <tr>\n",
       "      <th>max</th>\n",
       "      <td>273.000000</td>\n",
       "      <td>1.000000</td>\n",
       "      <td>1.000000</td>\n",
       "      <td>0.0</td>\n",
       "      <td>0.0</td>\n",
       "      <td>0.0</td>\n",
       "      <td>0.0</td>\n",
       "      <td>0.0</td>\n",
       "      <td>0.0</td>\n",
       "      <td>0.0</td>\n",
       "      <td>...</td>\n",
       "      <td>0.0</td>\n",
       "      <td>1.000000</td>\n",
       "      <td>0.0</td>\n",
       "      <td>0.0</td>\n",
       "      <td>0.0</td>\n",
       "      <td>1.000000</td>\n",
       "      <td>0.0</td>\n",
       "      <td>0.0</td>\n",
       "      <td>0.0</td>\n",
       "      <td>0.0</td>\n",
       "    </tr>\n",
       "  </tbody>\n",
       "</table>\n",
       "<p>8 rows × 4861 columns</p>\n",
       "</div>"
      ],
      "text/plain": [
       "              ALT      KRFP1      KRFP2  KRFP3  KRFP4  KRFP5  KRFP6  KRFP7  \\\n",
       "count   98.000000  98.000000  98.000000   98.0   98.0   98.0   98.0   98.0   \n",
       "mean    47.119898   0.693878   0.418367    0.0    0.0    0.0    0.0    0.0   \n",
       "std     45.294039   0.463251   0.495827    0.0    0.0    0.0    0.0    0.0   \n",
       "min      1.510000   0.000000   0.000000    0.0    0.0    0.0    0.0    0.0   \n",
       "25%     29.775000   0.000000   0.000000    0.0    0.0    0.0    0.0    0.0   \n",
       "50%     36.300000   1.000000   0.000000    0.0    0.0    0.0    0.0    0.0   \n",
       "75%     49.000000   1.000000   1.000000    0.0    0.0    0.0    0.0    0.0   \n",
       "max    273.000000   1.000000   1.000000    0.0    0.0    0.0    0.0    0.0   \n",
       "\n",
       "       KRFP8  KRFP9  ...  KRFP4851   KRFP4852  KRFP4853  KRFP4854  KRFP4855  \\\n",
       "count   98.0   98.0  ...      98.0  98.000000      98.0      98.0      98.0   \n",
       "mean     0.0    0.0  ...       0.0   0.051020       0.0       0.0       0.0   \n",
       "std      0.0    0.0  ...       0.0   0.221171       0.0       0.0       0.0   \n",
       "min      0.0    0.0  ...       0.0   0.000000       0.0       0.0       0.0   \n",
       "25%      0.0    0.0  ...       0.0   0.000000       0.0       0.0       0.0   \n",
       "50%      0.0    0.0  ...       0.0   0.000000       0.0       0.0       0.0   \n",
       "75%      0.0    0.0  ...       0.0   0.000000       0.0       0.0       0.0   \n",
       "max      0.0    0.0  ...       0.0   1.000000       0.0       0.0       0.0   \n",
       "\n",
       "        KRFP4856  KRFP4857  KRFP4858  KRFP4859  KRFP4860  \n",
       "count  98.000000      98.0      98.0      98.0      98.0  \n",
       "mean    0.051020       0.0       0.0       0.0       0.0  \n",
       "std     0.221171       0.0       0.0       0.0       0.0  \n",
       "min     0.000000       0.0       0.0       0.0       0.0  \n",
       "25%     0.000000       0.0       0.0       0.0       0.0  \n",
       "50%     0.000000       0.0       0.0       0.0       0.0  \n",
       "75%     0.000000       0.0       0.0       0.0       0.0  \n",
       "max     1.000000       0.0       0.0       0.0       0.0  \n",
       "\n",
       "[8 rows x 4861 columns]"
      ]
     },
     "execution_count": 5,
     "metadata": {},
     "output_type": "execute_result"
    }
   ],
   "source": [
    "df.describe()"
   ]
  },
  {
   "cell_type": "code",
   "execution_count": 6,
   "id": "d7e4b95c",
   "metadata": {},
   "outputs": [],
   "source": [
    "columns = list(df.columns.values)\n",
    "columns.remove('ALT')"
   ]
  },
  {
   "cell_type": "markdown",
   "id": "27ccc5c3",
   "metadata": {},
   "source": [
    "### Min and max values in row w/o ALT's"
   ]
  },
  {
   "cell_type": "code",
   "execution_count": 7,
   "id": "57a8d321",
   "metadata": {},
   "outputs": [
    {
     "data": {
      "text/plain": [
       "30.0"
      ]
     },
     "execution_count": 7,
     "metadata": {},
     "output_type": "execute_result"
    }
   ],
   "source": [
    "df[columns].sum(axis=1).min()"
   ]
  },
  {
   "cell_type": "code",
   "execution_count": 8,
   "id": "7dd1e1bf",
   "metadata": {},
   "outputs": [
    {
     "data": {
      "text/plain": [
       "128.0"
      ]
     },
     "execution_count": 8,
     "metadata": {},
     "output_type": "execute_result"
    }
   ],
   "source": [
    "df[columns].sum(axis=1).max()"
   ]
  },
  {
   "cell_type": "markdown",
   "id": "000a8317",
   "metadata": {},
   "source": [
    "### Min and max values in column w/o ALT's "
   ]
  },
  {
   "cell_type": "code",
   "execution_count": 9,
   "id": "00c9b743",
   "metadata": {},
   "outputs": [
    {
     "data": {
      "text/plain": [
       "0.0"
      ]
     },
     "execution_count": 9,
     "metadata": {},
     "output_type": "execute_result"
    }
   ],
   "source": [
    "df[columns].sum(axis=0).min()"
   ]
  },
  {
   "cell_type": "code",
   "execution_count": 10,
   "id": "db14698f",
   "metadata": {},
   "outputs": [
    {
     "data": {
      "text/plain": [
       "98.0"
      ]
     },
     "execution_count": 10,
     "metadata": {},
     "output_type": "execute_result"
    }
   ],
   "source": [
    "df[columns].sum(axis=0).max()"
   ]
  },
  {
   "cell_type": "code",
   "execution_count": 11,
   "id": "81f97b91",
   "metadata": {},
   "outputs": [
    {
     "name": "stdout",
     "output_type": "stream",
     "text": [
      "KRFP1       68.0\n",
      "KRFP2       41.0\n",
      "KRFP3        0.0\n",
      "KRFP4        0.0\n",
      "KRFP5        0.0\n",
      "            ... \n",
      "KRFP4856     5.0\n",
      "KRFP4857     0.0\n",
      "KRFP4858     0.0\n",
      "KRFP4859     0.0\n",
      "KRFP4860     0.0\n",
      "Length: 4860, dtype: float64\n"
     ]
    }
   ],
   "source": [
    "sum_col = df[columns].sum(axis=0)\n",
    "print (sum_col)"
   ]
  },
  {
   "cell_type": "code",
   "execution_count": 12,
   "id": "bf8b9745",
   "metadata": {},
   "outputs": [],
   "source": [
    "zeros_col = list(dict((k, v) for (k, v) in sum_col.items() if v == 0.0).keys())"
   ]
  },
  {
   "cell_type": "code",
   "execution_count": 13,
   "id": "a08529b3",
   "metadata": {},
   "outputs": [
    {
     "data": {
      "text/plain": [
       "4461"
      ]
     },
     "execution_count": 13,
     "metadata": {},
     "output_type": "execute_result"
    }
   ],
   "source": [
    "len(zeros_col)"
   ]
  },
  {
   "cell_type": "code",
   "execution_count": 14,
   "id": "4b2069a2",
   "metadata": {},
   "outputs": [],
   "source": [
    "number_of_rows=98\n",
    "ones_col = list(dict((k, v) for (k, v) in sum_col.items() if v == number_of_rows).keys())"
   ]
  },
  {
   "cell_type": "code",
   "execution_count": 15,
   "id": "7bf38d3b",
   "metadata": {},
   "outputs": [
    {
     "data": {
      "text/plain": [
       "['KRFP2975']"
      ]
     },
     "execution_count": 15,
     "metadata": {},
     "output_type": "execute_result"
    }
   ],
   "source": [
    "ones_col"
   ]
  },
  {
   "cell_type": "markdown",
   "id": "8894d7cf",
   "metadata": {},
   "source": [
    "### Delete zeros columns from dataframe"
   ]
  },
  {
   "cell_type": "code",
   "execution_count": 16,
   "id": "b0539348",
   "metadata": {},
   "outputs": [],
   "source": [
    "df.drop(columns=zeros_col, inplace=True)"
   ]
  },
  {
   "cell_type": "markdown",
   "id": "6920b74a",
   "metadata": {},
   "source": [
    "### Delete ones columns from dataframe"
   ]
  },
  {
   "cell_type": "code",
   "execution_count": 17,
   "id": "a261565e",
   "metadata": {},
   "outputs": [],
   "source": [
    "df.drop(columns=ones_col, inplace=True)"
   ]
  },
  {
   "cell_type": "code",
   "execution_count": 18,
   "id": "283144ce",
   "metadata": {},
   "outputs": [
    {
     "data": {
      "text/html": [
       "<div>\n",
       "<style scoped>\n",
       "    .dataframe tbody tr th:only-of-type {\n",
       "        vertical-align: middle;\n",
       "    }\n",
       "\n",
       "    .dataframe tbody tr th {\n",
       "        vertical-align: top;\n",
       "    }\n",
       "\n",
       "    .dataframe thead th {\n",
       "        text-align: right;\n",
       "    }\n",
       "</style>\n",
       "<table border=\"1\" class=\"dataframe\">\n",
       "  <thead>\n",
       "    <tr style=\"text-align: right;\">\n",
       "      <th></th>\n",
       "      <th>ALT</th>\n",
       "      <th>KRFP1</th>\n",
       "      <th>KRFP2</th>\n",
       "      <th>KRFP14</th>\n",
       "      <th>KRFP16</th>\n",
       "      <th>KRFP17</th>\n",
       "      <th>KRFP18</th>\n",
       "      <th>KRFP20</th>\n",
       "      <th>KRFP34</th>\n",
       "      <th>KRFP45</th>\n",
       "      <th>...</th>\n",
       "      <th>KRFP4810</th>\n",
       "      <th>KRFP4811</th>\n",
       "      <th>KRFP4813</th>\n",
       "      <th>KRFP4820</th>\n",
       "      <th>KRFP4829</th>\n",
       "      <th>KRFP4830</th>\n",
       "      <th>KRFP4836</th>\n",
       "      <th>KRFP4843</th>\n",
       "      <th>KRFP4852</th>\n",
       "      <th>KRFP4856</th>\n",
       "    </tr>\n",
       "  </thead>\n",
       "  <tbody>\n",
       "    <tr>\n",
       "      <th>0</th>\n",
       "      <td>32.60</td>\n",
       "      <td>1.0</td>\n",
       "      <td>0.0</td>\n",
       "      <td>0.0</td>\n",
       "      <td>0.0</td>\n",
       "      <td>0.0</td>\n",
       "      <td>0.0</td>\n",
       "      <td>0.0</td>\n",
       "      <td>0.0</td>\n",
       "      <td>0.0</td>\n",
       "      <td>...</td>\n",
       "      <td>0.0</td>\n",
       "      <td>0.0</td>\n",
       "      <td>1.0</td>\n",
       "      <td>0.0</td>\n",
       "      <td>0.0</td>\n",
       "      <td>0.0</td>\n",
       "      <td>0.0</td>\n",
       "      <td>0.0</td>\n",
       "      <td>0.0</td>\n",
       "      <td>0.0</td>\n",
       "    </tr>\n",
       "    <tr>\n",
       "      <th>1</th>\n",
       "      <td>37.20</td>\n",
       "      <td>1.0</td>\n",
       "      <td>0.0</td>\n",
       "      <td>0.0</td>\n",
       "      <td>0.0</td>\n",
       "      <td>0.0</td>\n",
       "      <td>0.0</td>\n",
       "      <td>0.0</td>\n",
       "      <td>0.0</td>\n",
       "      <td>0.0</td>\n",
       "      <td>...</td>\n",
       "      <td>0.0</td>\n",
       "      <td>0.0</td>\n",
       "      <td>1.0</td>\n",
       "      <td>0.0</td>\n",
       "      <td>0.0</td>\n",
       "      <td>0.0</td>\n",
       "      <td>0.0</td>\n",
       "      <td>0.0</td>\n",
       "      <td>0.0</td>\n",
       "      <td>0.0</td>\n",
       "    </tr>\n",
       "    <tr>\n",
       "      <th>2</th>\n",
       "      <td>2.92</td>\n",
       "      <td>0.0</td>\n",
       "      <td>0.0</td>\n",
       "      <td>0.0</td>\n",
       "      <td>0.0</td>\n",
       "      <td>0.0</td>\n",
       "      <td>0.0</td>\n",
       "      <td>0.0</td>\n",
       "      <td>0.0</td>\n",
       "      <td>0.0</td>\n",
       "      <td>...</td>\n",
       "      <td>0.0</td>\n",
       "      <td>0.0</td>\n",
       "      <td>0.0</td>\n",
       "      <td>0.0</td>\n",
       "      <td>0.0</td>\n",
       "      <td>0.0</td>\n",
       "      <td>0.0</td>\n",
       "      <td>1.0</td>\n",
       "      <td>1.0</td>\n",
       "      <td>1.0</td>\n",
       "    </tr>\n",
       "    <tr>\n",
       "      <th>3</th>\n",
       "      <td>3.16</td>\n",
       "      <td>0.0</td>\n",
       "      <td>0.0</td>\n",
       "      <td>0.0</td>\n",
       "      <td>0.0</td>\n",
       "      <td>0.0</td>\n",
       "      <td>0.0</td>\n",
       "      <td>0.0</td>\n",
       "      <td>0.0</td>\n",
       "      <td>0.0</td>\n",
       "      <td>...</td>\n",
       "      <td>0.0</td>\n",
       "      <td>0.0</td>\n",
       "      <td>0.0</td>\n",
       "      <td>0.0</td>\n",
       "      <td>0.0</td>\n",
       "      <td>0.0</td>\n",
       "      <td>0.0</td>\n",
       "      <td>1.0</td>\n",
       "      <td>1.0</td>\n",
       "      <td>1.0</td>\n",
       "    </tr>\n",
       "    <tr>\n",
       "      <th>4</th>\n",
       "      <td>44.10</td>\n",
       "      <td>1.0</td>\n",
       "      <td>1.0</td>\n",
       "      <td>0.0</td>\n",
       "      <td>0.0</td>\n",
       "      <td>0.0</td>\n",
       "      <td>0.0</td>\n",
       "      <td>0.0</td>\n",
       "      <td>1.0</td>\n",
       "      <td>0.0</td>\n",
       "      <td>...</td>\n",
       "      <td>0.0</td>\n",
       "      <td>0.0</td>\n",
       "      <td>0.0</td>\n",
       "      <td>0.0</td>\n",
       "      <td>0.0</td>\n",
       "      <td>0.0</td>\n",
       "      <td>0.0</td>\n",
       "      <td>0.0</td>\n",
       "      <td>0.0</td>\n",
       "      <td>0.0</td>\n",
       "    </tr>\n",
       "  </tbody>\n",
       "</table>\n",
       "<p>5 rows × 399 columns</p>\n",
       "</div>"
      ],
      "text/plain": [
       "     ALT  KRFP1  KRFP2  KRFP14  KRFP16  KRFP17  KRFP18  KRFP20  KRFP34  \\\n",
       "0  32.60    1.0    0.0     0.0     0.0     0.0     0.0     0.0     0.0   \n",
       "1  37.20    1.0    0.0     0.0     0.0     0.0     0.0     0.0     0.0   \n",
       "2   2.92    0.0    0.0     0.0     0.0     0.0     0.0     0.0     0.0   \n",
       "3   3.16    0.0    0.0     0.0     0.0     0.0     0.0     0.0     0.0   \n",
       "4  44.10    1.0    1.0     0.0     0.0     0.0     0.0     0.0     1.0   \n",
       "\n",
       "   KRFP45  ...  KRFP4810  KRFP4811  KRFP4813  KRFP4820  KRFP4829  KRFP4830  \\\n",
       "0     0.0  ...       0.0       0.0       1.0       0.0       0.0       0.0   \n",
       "1     0.0  ...       0.0       0.0       1.0       0.0       0.0       0.0   \n",
       "2     0.0  ...       0.0       0.0       0.0       0.0       0.0       0.0   \n",
       "3     0.0  ...       0.0       0.0       0.0       0.0       0.0       0.0   \n",
       "4     0.0  ...       0.0       0.0       0.0       0.0       0.0       0.0   \n",
       "\n",
       "   KRFP4836  KRFP4843  KRFP4852  KRFP4856  \n",
       "0       0.0       0.0       0.0       0.0  \n",
       "1       0.0       0.0       0.0       0.0  \n",
       "2       0.0       1.0       1.0       1.0  \n",
       "3       0.0       1.0       1.0       1.0  \n",
       "4       0.0       0.0       0.0       0.0  \n",
       "\n",
       "[5 rows x 399 columns]"
      ]
     },
     "execution_count": 18,
     "metadata": {},
     "output_type": "execute_result"
    }
   ],
   "source": [
    "df.head()"
   ]
  },
  {
   "cell_type": "code",
   "execution_count": 19,
   "id": "4830f4a3",
   "metadata": {},
   "outputs": [
    {
     "data": {
      "text/plain": [
       "<AxesSubplot:xlabel='ALT', ylabel='Count'>"
      ]
     },
     "execution_count": 19,
     "metadata": {},
     "output_type": "execute_result"
    },
    {
     "data": {
      "image/png": "[encoded data removed]",
      "text/plain": [
       "<Figure size 432x288 with 1 Axes>"
      ]
     },
     "metadata": {
      "needs_background": "light"
     },
     "output_type": "display_data"
    }
   ],
   "source": [
    "sns.histplot(data = df['ALT'],\n",
    "             color = 'navy')"
   ]
  },
  {
   "cell_type": "markdown",
   "id": "4bd609ce",
   "metadata": {},
   "source": [
    "### Map all values from ALT's column by log"
   ]
  },
  {
   "cell_type": "code",
   "execution_count": 20,
   "id": "17977278",
   "metadata": {},
   "outputs": [],
   "source": [
    "df['ALT'] = np.log1p(df['ALT'])"
   ]
  },
  {
   "cell_type": "code",
   "execution_count": 21,
   "id": "49ede0c0",
   "metadata": {},
   "outputs": [
    {
     "data": {
      "text/plain": [
       "<AxesSubplot:xlabel='ALT', ylabel='Count'>"
      ]
     },
     "execution_count": 21,
     "metadata": {},
     "output_type": "execute_result"
    },
    {
     "data": {
      "image/png": "[encoded data removed]",
      "text/plain": [
       "<Figure size 432x288 with 1 Axes>"
      ]
     },
     "metadata": {
      "needs_background": "light"
     },
     "output_type": "display_data"
    }
   ],
   "source": [
    "sns.histplot(data = df['ALT'],\n",
    "             color = 'navy')"
   ]
  },
  {
   "cell_type": "code",
   "execution_count": 22,
   "id": "b8364042",
   "metadata": {},
   "outputs": [
    {
     "data": {
      "text/plain": [
       "0.9202827531436926"
      ]
     },
     "execution_count": 22,
     "metadata": {},
     "output_type": "execute_result"
    }
   ],
   "source": [
    "df['ALT'].min()"
   ]
  },
  {
   "cell_type": "code",
   "execution_count": 23,
   "id": "fe8531b8",
   "metadata": {},
   "outputs": [
    {
     "data": {
      "text/plain": [
       "5.6131281063880705"
      ]
     },
     "execution_count": 23,
     "metadata": {},
     "output_type": "execute_result"
    }
   ],
   "source": [
    "df['ALT'].max()"
   ]
  },
  {
   "cell_type": "markdown",
   "id": "53dfb327",
   "metadata": {},
   "source": [
    "### Save to file"
   ]
  },
  {
   "cell_type": "code",
   "execution_count": 24,
   "id": "f8348efb",
   "metadata": {},
   "outputs": [],
   "source": [
    "df.to_csv(\"../data/hepatotoxicity_ALT_KlekFP_preprocessing_and_analyst.csv\", index = False)"
   ]
  },
  {
   "cell_type": "code",
   "execution_count": null,
   "id": "990c003f",
   "metadata": {},
   "outputs": [],
   "source": []
  }
 ],
 "metadata": {
  "kernelspec": {
   "display_name": "Python 3 (ipykernel)",
   "language": "python",
   "name": "python3"
  },
  "language_info": {
   "codemirror_mode": {
    "name": "ipython",
    "version": 3
   },
   "file_extension": ".py",
   "mimetype": "text/x-python",
   "name": "python",
   "nbconvert_exporter": "python",
   "pygments_lexer": "ipython3",
   "version": "3.9.7"
  }
 },
 "nbformat": 4,
 "nbformat_minor": 5
}
