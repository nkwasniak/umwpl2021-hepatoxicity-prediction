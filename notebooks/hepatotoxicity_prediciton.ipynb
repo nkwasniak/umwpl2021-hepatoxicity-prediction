{
 "cells": [
  {
   "cell_type": "code",
   "execution_count": 25,
   "id": "2b0bd6ce",
   "metadata": {},
   "outputs": [],
   "source": [
    "import pandas as pd\n",
    "from sklearn.model_selection import KFold, train_test_split\n",
    "from sklearn.linear_model import LinearRegression, SGDRegressor\n",
    "from sklearn.svm import SVR\n",
    "from sklearn.linear_model import Lasso\n",
    "from sklearn.model_selection import GridSearchCV\n",
    "from sklearn.metrics import r2_score\n",
    "from sklearn.metrics import mean_absolute_error\n",
    "from sklearn.metrics import mean_squared_error"
   ]
  },
  {
   "cell_type": "code",
   "execution_count": 2,
   "id": "d1d98425",
   "metadata": {},
   "outputs": [],
   "source": [
    "df = pd.read_csv(\"../data/hepatotoxicity_ALT_KlekFP_preprocessing_and_analyst.csv\", header=0, index_col=False)"
   ]
  },
  {
   "cell_type": "code",
   "execution_count": 3,
   "id": "2d4674fb",
   "metadata": {},
   "outputs": [],
   "source": [
    "columns = list(df.columns.values)\n",
    "columns.remove('ALT')"
   ]
  },
  {
   "cell_type": "code",
   "execution_count": 4,
   "id": "da7d3c6c",
   "metadata": {},
   "outputs": [],
   "source": [
    "X = df[columns].values\n",
    "y = df['ALT'].values"
   ]
  },
  {
   "cell_type": "code",
   "execution_count": 9,
   "id": "e5e9d73d",
   "metadata": {},
   "outputs": [
    {
     "name": "stdout",
     "output_type": "stream",
     "text": [
      "[3.48431229 3.61630876 1.07158362 1.15057203 3.78645978 3.76607195\n",
      " 3.58351894 3.12676054 3.29953373 3.5807373  3.81330703 3.33576958\n",
      " 3.68887945 4.38202663 5.6094718  3.33220451 3.65325228 5.51141058\n",
      " 5.56452041 4.04305127 3.27336401 3.21887582 3.4339872  3.8918203\n",
      " 3.4657359  3.33220451 3.80666249 3.52636052 3.52636052 3.76120012\n",
      " 3.71357207 4.21950771 3.70376807 4.11316632 3.40119738 0.81977983\n",
      " 0.41210965 0.63657683 4.19870458 3.49042852 4.09434456 3.4657359\n",
      " 4.11087386 3.78418963 5.39362755 3.12236492 3.25809654 3.8918203\n",
      " 3.44680789 3.68887945 2.99573227 3.21887582 4.15888308 3.8918203\n",
      " 4.31615389 3.49650756 3.53805656 3.60277676 3.5085559  4.01998015\n",
      " 3.6323091  3.78872479 3.07269331 3.60004824 3.55820113 3.4339872\n",
      " 3.58351894 3.91202301 3.36729583 4.04305127 3.55534806 3.8918203\n",
      " 4.15888308 3.73528583 3.7658405  3.67122452 3.21887582 3.43075618\n",
      " 3.40119738 2.99573227 3.81330703 3.39114705 3.5695327  3.14845336\n",
      " 4.15888308 3.36729583 2.83321334 3.8918203  2.99573227 4.15888308\n",
      " 4.15888308 4.37449837 3.51749784 3.6454499  3.4657359  3.9806158\n",
      " 3.54095932 4.09434456]\n"
     ]
    }
   ],
   "source": [
    "print(y)"
   ]
  },
  {
   "cell_type": "code",
   "execution_count": 11,
   "id": "836a4457",
   "metadata": {},
   "outputs": [
    {
     "name": "stdout",
     "output_type": "stream",
     "text": [
      "[[1. 0. 0. ... 0. 0. 0.]\n",
      " [1. 0. 0. ... 0. 0. 0.]\n",
      " [0. 0. 0. ... 1. 1. 1.]\n",
      " ...\n",
      " [0. 0. 0. ... 0. 0. 0.]\n",
      " [1. 0. 0. ... 0. 0. 0.]\n",
      " [0. 0. 0. ... 0. 0. 0.]]\n"
     ]
    }
   ],
   "source": [
    "print(X)"
   ]
  },
  {
   "cell_type": "code",
   "execution_count": 14,
   "id": "42214f30",
   "metadata": {},
   "outputs": [
    {
     "name": "stdout",
     "output_type": "stream",
     "text": [
      "(78, 398)\n",
      "(20, 398)\n"
     ]
    }
   ],
   "source": [
    "X_train, X_test, y_train, y_test = train_test_split(X, y, test_size=0.2, random_state=123)\n",
    "\n",
    "print(X_train.shape)\n",
    "print(X_test.shape)"
   ]
  },
  {
   "cell_type": "code",
   "execution_count": 17,
   "id": "79e2d9e3",
   "metadata": {},
   "outputs": [],
   "source": [
    "models=[SGDRegressor(), SVR(), LinearRegression(), Lasso()]\n",
    "params=[\n",
    "    {'alpha' : [0.001, 0.0001, 0.00001],'learning_rate' : ['constant','optimal','invscaling']},\n",
    "    {'kernel' : ('linear', 'poly', 'rbf', 'sigmoid'),'C' : [0.001,0.01,0.1,1,5,10],'degree' : [3,8],'coef0' : [0.01,10,0.5],'gamma' : ('auto','scale')},\n",
    "    {},\n",
    "    {'alpha':[0.001, 0.005, 0.01,0.05,0.1,0.5,1]}\n",
    "]"
   ]
  },
  {
   "cell_type": "code",
   "execution_count": 21,
   "id": "12c40f3a",
   "metadata": {},
   "outputs": [],
   "source": [
    "results=[]\n",
    "for model, grid_params in zip(models, params):\n",
    "    kfold = KFold(n_splits=5, random_state=123, shuffle=True)\n",
    "    grid_search=GridSearchCV(estimator=model,param_grid=grid_params,scoring='neg_mean_squared_error',cv=kfold)\n",
    "    grid_fit=grid_search.fit(X_train, y_train)\n",
    "    results.append((grid_fit.best_estimator_, grid_fit.best_params_, grid_fit.best_score_*(-1)))"
   ]
  },
  {
   "cell_type": "code",
   "execution_count": 22,
   "id": "1b8b5d58",
   "metadata": {},
   "outputs": [
    {
     "data": {
      "text/html": [
       "<div>\n",
       "<style scoped>\n",
       "    .dataframe tbody tr th:only-of-type {\n",
       "        vertical-align: middle;\n",
       "    }\n",
       "\n",
       "    .dataframe tbody tr th {\n",
       "        vertical-align: top;\n",
       "    }\n",
       "\n",
       "    .dataframe thead th {\n",
       "        text-align: right;\n",
       "    }\n",
       "</style>\n",
       "<table border=\"1\" class=\"dataframe\">\n",
       "  <thead>\n",
       "    <tr style=\"text-align: right;\">\n",
       "      <th></th>\n",
       "      <th>Model</th>\n",
       "      <th>Params</th>\n",
       "      <th>MSE</th>\n",
       "    </tr>\n",
       "  </thead>\n",
       "  <tbody>\n",
       "    <tr>\n",
       "      <th>0</th>\n",
       "      <td>SGDRegressor(learning_rate='constant')</td>\n",
       "      <td>{'alpha': 0.0001, 'learning_rate': 'constant'}</td>\n",
       "      <td>3.589854e-01</td>\n",
       "    </tr>\n",
       "    <tr>\n",
       "      <th>1</th>\n",
       "      <td>SVR(C=10, coef0=0.01, gamma='auto', kernel='li...</td>\n",
       "      <td>{'C': 10, 'coef0': 0.01, 'degree': 3, 'gamma':...</td>\n",
       "      <td>1.683632e-01</td>\n",
       "    </tr>\n",
       "    <tr>\n",
       "      <th>2</th>\n",
       "      <td>LinearRegression()</td>\n",
       "      <td>{}</td>\n",
       "      <td>3.817983e+24</td>\n",
       "    </tr>\n",
       "    <tr>\n",
       "      <th>3</th>\n",
       "      <td>Lasso(alpha=0.01)</td>\n",
       "      <td>{'alpha': 0.01}</td>\n",
       "      <td>2.361231e-01</td>\n",
       "    </tr>\n",
       "  </tbody>\n",
       "</table>\n",
       "</div>"
      ],
      "text/plain": [
       "                                               Model  \\\n",
       "0             SGDRegressor(learning_rate='constant')   \n",
       "1  SVR(C=10, coef0=0.01, gamma='auto', kernel='li...   \n",
       "2                                 LinearRegression()   \n",
       "3                                  Lasso(alpha=0.01)   \n",
       "\n",
       "                                              Params           MSE  \n",
       "0     {'alpha': 0.0001, 'learning_rate': 'constant'}  3.589854e-01  \n",
       "1  {'C': 10, 'coef0': 0.01, 'degree': 3, 'gamma':...  1.683632e-01  \n",
       "2                                                 {}  3.817983e+24  \n",
       "3                                    {'alpha': 0.01}  2.361231e-01  "
      ]
     },
     "execution_count": 22,
     "metadata": {},
     "output_type": "execute_result"
    }
   ],
   "source": [
    "pd.DataFrame(results, columns=['Model', 'Params','MSE'])"
   ]
  },
  {
   "cell_type": "code",
   "execution_count": 23,
   "id": "909fc6fc",
   "metadata": {},
   "outputs": [
    {
     "name": "stdout",
     "output_type": "stream",
     "text": [
      "{'C': 10, 'coef0': 0.01, 'degree': 3, 'gamma': 'auto', 'kernel': 'linear'}\n"
     ]
    }
   ],
   "source": [
    "best_params=results[1][1]\n",
    "print(best_params)"
   ]
  },
  {
   "cell_type": "code",
   "execution_count": 26,
   "id": "61ec0524",
   "metadata": {},
   "outputs": [],
   "source": [
    "model=SVR(C=10, coef0=10, degree=3, gamma='auto', kernel='poly')\n",
    "model.fit(X_train, y_train)\n",
    "\n",
    "Y_pred=model.predict(X_test)\n",
    "\n",
    "mse=mean_squared_error(y_test, Y_pred)\n",
    "r2=r2_score(y_test, Y_pred)\n",
    "mae=mean_absolute_error(y_test, Y_pred)"
   ]
  },
  {
   "cell_type": "code",
   "execution_count": 27,
   "id": "27c3af90",
   "metadata": {},
   "outputs": [
    {
     "name": "stdout",
     "output_type": "stream",
     "text": [
      "MSE= 0.26596697035486666\n",
      "MAE= 0.42011224525750157\n",
      "R2= -1.085502284752776\n"
     ]
    }
   ],
   "source": [
    "print(\"MSE=\", mse)\n",
    "print(\"MAE=\", mae)\n",
    "print(\"R2=\", r2)"
   ]
  },
  {
   "cell_type": "code",
   "execution_count": null,
   "id": "55c7a021",
   "metadata": {},
   "outputs": [],
   "source": []
  }
 ],
 "metadata": {
  "kernelspec": {
   "display_name": "Python 3 (ipykernel)",
   "language": "python",
   "name": "python3"
  },
  "language_info": {
   "codemirror_mode": {
    "name": "ipython",
    "version": 3
   },
   "file_extension": ".py",
   "mimetype": "text/x-python",
   "name": "python",
   "nbconvert_exporter": "python",
   "pygments_lexer": "ipython3",
   "version": "3.9.7"
  }
 },
 "nbformat": 4,
 "nbformat_minor": 5
}
